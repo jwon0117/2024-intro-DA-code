{
 "cells": [
  {
   "cell_type": "code",
   "execution_count": 1,
   "metadata": {},
   "outputs": [
    {
     "name": "stdout",
     "output_type": "stream",
     "text": [
      "기상 관측 이래 서울이 최고 기온이 가장 높았던 날은 2018-08-01로 39.6도 였습니다.\n"
     ]
    }
   ],
   "source": [
    "import csv\n",
    "\n",
    "max_temp = -999\n",
    "max_date = ''\n",
    "\n",
    "# CSV 파일을 cp949 인코딩으로 열기\n",
    "with open('seoul1.csv', 'r', encoding='cp949') as f:\n",
    "    data = csv.reader(f)\n",
    "    header = next(data)  # 헤더를 건너뜁니다\n",
    "\n",
    "    for row in data:\n",
    "        # 기온이 결측된 경우 처리\n",
    "        if row[4] == '':\n",
    "            row[4] = -999\n",
    "        else:\n",
    "            row[4] = float(row[4])\n",
    "\n",
    "        # 새로운 최고 기온을 찾은 경우 max_temp와 max_date 업데이트\n",
    "        if row[4] > max_temp:\n",
    "            max_temp = row[4]\n",
    "            max_date = row[0].strip()\n",
    "\n",
    "# 결과 출력\n",
    "print(f'기상 관측 이래 서울이 최고 기온이 가장 높았던 날은 {max_date}로 {max_temp}도 였습니다.')"
   ]
  },
  {
   "cell_type": "code",
   "execution_count": null,
   "metadata": {},
   "outputs": [],
   "source": []
  }
 ],
 "metadata": {
  "kernelspec": {
   "display_name": "Python 3",
   "language": "python",
   "name": "python3"
  },
  "language_info": {
   "codemirror_mode": {
    "name": "ipython",
    "version": 3
   },
   "file_extension": ".py",
   "mimetype": "text/x-python",
   "name": "python",
   "nbconvert_exporter": "python",
   "pygments_lexer": "ipython3",
   "version": "3.12.2"
  }
 },
 "nbformat": 4,
 "nbformat_minor": 2
}
