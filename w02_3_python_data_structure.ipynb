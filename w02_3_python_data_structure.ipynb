{
  "cells": [
    {
      "cell_type": "markdown",
      "metadata": {
        "id": "view-in-github",
        "colab_type": "text"
      },
      "source": [
        "<a href=\"https://colab.research.google.com/github/jwon0117/2024-intro-DA-code/blob/main/w02_3_python_data_structure.ipynb\" target=\"_parent\"><img src=\"https://colab.research.google.com/assets/colab-badge.svg\" alt=\"Open In Colab\"/></a>"
      ]
    },
    {
      "cell_type": "markdown",
      "metadata": {
        "id": "331HKijMV9Uq"
      },
      "source": [
        "표준 기본 자료 구조"
      ]
    },
    {
      "cell_type": "code",
      "execution_count": null,
      "metadata": {
        "colab": {
          "base_uri": "https://localhost:8080/"
        },
        "id": "KIG4UecEWHFd",
        "outputId": "841e3d65-0ddf-4cdc-aedf-69efc0bc946c"
      },
      "outputs": [
        {
          "output_type": "stream",
          "name": "stdout",
          "text": [
            "[10, 20, 30] <class 'list'>\n"
          ]
        }
      ],
      "source": [
        "lst = [10,20,30]\n",
        "print(lst,type(lst))"
      ]
    },
    {
      "cell_type": "code",
      "execution_count": null,
      "metadata": {
        "colab": {
          "base_uri": "https://localhost:8080/"
        },
        "id": "aCktwPahWKwK",
        "outputId": "620ad54a-1382-45cc-e209-eeac75c088de"
      },
      "outputs": [
        {
          "output_type": "execute_result",
          "data": {
            "text/plain": [
              "['java', 'python', 'R']"
            ]
          },
          "metadata": {},
          "execution_count": 2
        }
      ],
      "source": [
        "list(['java','python','R'])"
      ]
    },
    {
      "cell_type": "code",
      "execution_count": null,
      "metadata": {
        "colab": {
          "base_uri": "https://localhost:8080/"
        },
        "id": "vwC6yZUDWTn9",
        "outputId": "466da083-5147-4c3f-be6b-ae73bcd71720"
      },
      "outputs": [
        {
          "output_type": "stream",
          "name": "stdout",
          "text": [
            "[0, 1, 2, 3, 4]\n",
            "[1, 3, 5, 7, 9]\n"
          ]
        }
      ],
      "source": [
        "print(list(range(5)))\n",
        "print(list(range(1,10,2)))"
      ]
    },
    {
      "cell_type": "code",
      "execution_count": null,
      "metadata": {
        "colab": {
          "base_uri": "https://localhost:8080/"
        },
        "id": "F-_Mup63WiPn",
        "outputId": "92322a0e-54fb-42c8-d72d-afc4cdeaf394"
      },
      "outputs": [
        {
          "output_type": "stream",
          "name": "stdout",
          "text": [
            "1 False\n"
          ]
        }
      ],
      "source": [
        "lst = [1,3.92, 3>4, 'list'] #int, float, bool, str\n",
        "print(lst[0],lst[2])"
      ]
    },
    {
      "cell_type": "code",
      "execution_count": null,
      "metadata": {
        "colab": {
          "base_uri": "https://localhost:8080/"
        },
        "id": "7aNVCRBLWn0b",
        "outputId": "d99fb43b-d11e-4e99-f322-0f60e5553472"
      },
      "outputs": [
        {
          "output_type": "execute_result",
          "data": {
            "text/plain": [
              "[False, 'list']"
            ]
          },
          "metadata": {},
          "execution_count": 5
        }
      ],
      "source": [
        "lst[2:4]"
      ]
    },
    {
      "cell_type": "code",
      "execution_count": null,
      "metadata": {
        "colab": {
          "base_uri": "https://localhost:8080/"
        },
        "id": "qh9ttSxxWpMK",
        "outputId": "9d62dd6d-5973-43b3-9d16-3ce077313a30"
      },
      "outputs": [
        {
          "output_type": "stream",
          "name": "stdout",
          "text": [
            "[False, 'list']\n",
            "[1, 3.92, False, 'list']\n",
            "['list', False, 3.92]\n"
          ]
        }
      ],
      "source": [
        "print(lst[2:])\n",
        "print(lst[:4])\n",
        "print(lst[-1:-4:-1])"
      ]
    },
    {
      "cell_type": "code",
      "execution_count": null,
      "metadata": {
        "colab": {
          "base_uri": "https://localhost:8080/"
        },
        "id": "q_GBV0TLW677",
        "outputId": "6c0b68da-a5fb-411a-9637-66fdb2fc5148"
      },
      "outputs": [
        {
          "output_type": "execute_result",
          "data": {
            "text/plain": [
              "[3.141592653589793, 30, True, 'list', <function __main__.<lambda>(x)>, 'py']"
            ]
          },
          "metadata": {},
          "execution_count": 7
        }
      ],
      "source": [
        "import math as m\n",
        "a = [m.pi, 30, 10>4, 'list', lambda x:x**3]\n",
        "a.append('py')\n",
        "a"
      ]
    },
    {
      "cell_type": "code",
      "execution_count": null,
      "metadata": {
        "colab": {
          "base_uri": "https://localhost:8080/"
        },
        "id": "-Jm0fbMvXFTk",
        "outputId": "bf08629f-9055-47d0-e8ce-d0e276c47201"
      },
      "outputs": [
        {
          "output_type": "execute_result",
          "data": {
            "text/plain": [
              "30"
            ]
          },
          "metadata": {},
          "execution_count": 8
        }
      ],
      "source": [
        "def add2(x,y):\n",
        "  return x+y\n",
        "a.insert(1, add2)\n",
        "a[1](10,20)"
      ]
    },
    {
      "cell_type": "code",
      "execution_count": null,
      "metadata": {
        "colab": {
          "base_uri": "https://localhost:8080/"
        },
        "id": "jcJw1t9KXPiS",
        "outputId": "6f91e11b-4e45-4563-c559-82301db5025a"
      },
      "outputs": [
        {
          "output_type": "execute_result",
          "data": {
            "text/plain": [
              "[3.141592653589793,\n",
              " <function __main__.add2(x, y)>,\n",
              " 30,\n",
              " True,\n",
              " 'list',\n",
              " <function __main__.<lambda>(x)>,\n",
              " 'py']"
            ]
          },
          "metadata": {},
          "execution_count": 9
        }
      ],
      "source": [
        "a"
      ]
    },
    {
      "cell_type": "code",
      "execution_count": null,
      "metadata": {
        "colab": {
          "base_uri": "https://localhost:8080/"
        },
        "id": "JSX6PboEXWdj",
        "outputId": "59566155-eaf5-4fa6-9a61-1aa1ebfd42c7"
      },
      "outputs": [
        {
          "output_type": "execute_result",
          "data": {
            "text/plain": [
              "[3.141592653589793,\n",
              " <function __main__.add2(x, y)>,\n",
              " True,\n",
              " 'list',\n",
              " <function __main__.<lambda>(x)>,\n",
              " 'py']"
            ]
          },
          "metadata": {},
          "execution_count": 10
        }
      ],
      "source": [
        "a.remove(30)\n",
        "a"
      ]
    },
    {
      "cell_type": "code",
      "execution_count": null,
      "metadata": {
        "colab": {
          "base_uri": "https://localhost:8080/",
          "height": 35
        },
        "id": "LGmlXZvcXx1K",
        "outputId": "c1b69352-cdba-408c-8644-0d155904edbb"
      },
      "outputs": [
        {
          "output_type": "execute_result",
          "data": {
            "text/plain": [
              "'py'"
            ],
            "application/vnd.google.colaboratory.intrinsic+json": {
              "type": "string"
            }
          },
          "metadata": {},
          "execution_count": 11
        }
      ],
      "source": [
        "a.pop()"
      ]
    },
    {
      "cell_type": "code",
      "execution_count": null,
      "metadata": {
        "colab": {
          "base_uri": "https://localhost:8080/"
        },
        "id": "A9KA8yIjXx7E",
        "outputId": "7ea5d800-0851-48a2-87e1-a755b8de7d57"
      },
      "outputs": [
        {
          "output_type": "execute_result",
          "data": {
            "text/plain": [
              "[3.141592653589793,\n",
              " <function __main__.add2(x, y)>,\n",
              " True,\n",
              " 'list',\n",
              " <function __main__.<lambda>(x)>]"
            ]
          },
          "metadata": {},
          "execution_count": 12
        }
      ],
      "source": [
        "a"
      ]
    },
    {
      "cell_type": "code",
      "execution_count": null,
      "metadata": {
        "colab": {
          "base_uri": "https://localhost:8080/"
        },
        "id": "kUfwPLD0YN3d",
        "outputId": "8347539a-1af4-4221-ddbb-2d072232ac80"
      },
      "outputs": [
        {
          "output_type": "execute_result",
          "data": {
            "text/plain": [
              "[0, 1, 2, 3, 4, 5, 6, 7, 8, 9]"
            ]
          },
          "metadata": {},
          "execution_count": 13
        }
      ],
      "source": [
        "my_list = [x for x in range(10)]\n",
        "my_list"
      ]
    },
    {
      "cell_type": "code",
      "execution_count": null,
      "metadata": {
        "colab": {
          "base_uri": "https://localhost:8080/"
        },
        "id": "JOo3POijYQsd",
        "outputId": "83e9b532-41a5-49cc-cbe1-e68e6572fb8a"
      },
      "outputs": [
        {
          "output_type": "execute_result",
          "data": {
            "text/plain": [
              "[1, 3, 5, 7, 9]"
            ]
          },
          "metadata": {},
          "execution_count": 14
        }
      ],
      "source": [
        "[x for x in range(10) if x%2 ==1]"
      ]
    },
    {
      "cell_type": "code",
      "execution_count": null,
      "metadata": {
        "colab": {
          "base_uri": "https://localhost:8080/"
        },
        "id": "-Tzvo7XOYUsk",
        "outputId": "9826ed13-438b-4ffa-9303-fd2fa4bd43ec"
      },
      "outputs": [
        {
          "output_type": "execute_result",
          "data": {
            "text/plain": [
              "['add', 'even', 'add', 'even', 'add', 'even', 'add', 'even', 'add', 'even']"
            ]
          },
          "metadata": {},
          "execution_count": 15
        }
      ],
      "source": [
        "['even' if i%2 == 0 else 'add' for i in range(1,11)]"
      ]
    },
    {
      "cell_type": "code",
      "execution_count": null,
      "metadata": {
        "colab": {
          "base_uri": "https://localhost:8080/"
        },
        "id": "YR_STLfUYgkp",
        "outputId": "3324d1e7-5ba4-4691-e96e-84dff0cf96d0"
      },
      "outputs": [
        {
          "output_type": "execute_result",
          "data": {
            "text/plain": [
              "[[0, 0, 0, 0, 0], [1, 1, 1, 1, 1], [2, 2, 2, 2, 2]]"
            ]
          },
          "metadata": {},
          "execution_count": 16
        }
      ],
      "source": [
        "[[i for j in range(5)] for i in range(3)]"
      ]
    },
    {
      "cell_type": "code",
      "execution_count": null,
      "metadata": {
        "colab": {
          "base_uri": "https://localhost:8080/"
        },
        "id": "NoyZAeYzbYah",
        "outputId": "8e03ab31-07d0-4cac-c004-2adaf5a4c018"
      },
      "outputs": [
        {
          "output_type": "execute_result",
          "data": {
            "text/plain": [
              "[[0, 1, 2, 3, 4, 5], [1, 2, 3, 4, 5, 6], [2, 3, 4, 5, 6, 7]]"
            ]
          },
          "metadata": {},
          "execution_count": 17
        }
      ],
      "source": [
        "[[j for j in range(i,i+6)]for i in range(3)]"
      ]
    },
    {
      "cell_type": "code",
      "execution_count": null,
      "metadata": {
        "colab": {
          "base_uri": "https://localhost:8080/"
        },
        "id": "UHJLda-Wbrbq",
        "outputId": "bfce2ae4-19e3-46ec-f0d4-93f34dd48c5e"
      },
      "outputs": [
        {
          "output_type": "stream",
          "name": "stdout",
          "text": [
            "{'라면': 1200, '음료수': 1500, '과자': 800} <class 'dict'>\n"
          ]
        }
      ],
      "source": [
        "mart = {'라면':1200, '음료수':1500, '과자':800}\n",
        "print(mart, type(mart))"
      ]
    },
    {
      "cell_type": "code",
      "execution_count": null,
      "metadata": {
        "colab": {
          "base_uri": "https://localhost:8080/"
        },
        "id": "P4nPvmUObzSP",
        "outputId": "21aaba07-8da9-459d-9000-6e96608f990b"
      },
      "outputs": [
        {
          "output_type": "stream",
          "name": "stdout",
          "text": [
            "1200\n",
            "800\n",
            "1500\n"
          ]
        }
      ],
      "source": [
        "print(mart['라면'])\n",
        "print(mart['과자'])\n",
        "print(mart['음료수'])"
      ]
    },
    {
      "cell_type": "code",
      "execution_count": null,
      "metadata": {
        "colab": {
          "base_uri": "https://localhost:8080/"
        },
        "id": "aQey7f7wb34S",
        "outputId": "fae07ce7-7103-4eed-ea96-78a0e00a92d2"
      },
      "outputs": [
        {
          "output_type": "execute_result",
          "data": {
            "text/plain": [
              "{1: '일', 3.14: 2.71, (1, 2): '튜플', 'list': [1, 2, 3]}"
            ]
          },
          "metadata": {},
          "execution_count": 20
        }
      ],
      "source": [
        "data = {1:'일', 3.14:2.71, (1,2):'튜플', 'list':[1,2,3]}\n",
        "data"
      ]
    },
    {
      "cell_type": "code",
      "execution_count": null,
      "metadata": {
        "colab": {
          "base_uri": "https://localhost:8080/",
          "height": 147
        },
        "id": "c8cxEHSgcMsQ",
        "outputId": "d777f1a4-f05f-4b79-9379-74dac6b085a1"
      },
      "outputs": [
        {
          "output_type": "error",
          "ename": "TypeError",
          "evalue": "unhashable type: 'list'",
          "traceback": [
            "\u001b[0;31m---------------------------------------------------------------------------\u001b[0m",
            "\u001b[0;31mTypeError\u001b[0m                                 Traceback (most recent call last)",
            "\u001b[0;32m<ipython-input-21-63c8375295c9>\u001b[0m in \u001b[0;36m<cell line: 1>\u001b[0;34m()\u001b[0m\n\u001b[0;32m----> 1\u001b[0;31m \u001b[0mdata\u001b[0m \u001b[0;34m=\u001b[0m \u001b[0;34m{\u001b[0m\u001b[0;36m1\u001b[0m\u001b[0;34m:\u001b[0m\u001b[0;34m'일'\u001b[0m\u001b[0;34m,\u001b[0m \u001b[0;36m3.14\u001b[0m\u001b[0;34m:\u001b[0m\u001b[0;36m2.71\u001b[0m\u001b[0;34m,\u001b[0m \u001b[0;34m[\u001b[0m\u001b[0;36m1\u001b[0m\u001b[0;34m,\u001b[0m\u001b[0;36m2\u001b[0m\u001b[0;34m]\u001b[0m\u001b[0;34m:\u001b[0m\u001b[0;34m'라스트'\u001b[0m\u001b[0;34m,\u001b[0m \u001b[0;34m'list'\u001b[0m\u001b[0;34m:\u001b[0m\u001b[0;34m[\u001b[0m\u001b[0;36m1\u001b[0m\u001b[0;34m,\u001b[0m\u001b[0;36m2\u001b[0m\u001b[0;34m,\u001b[0m\u001b[0;36m3\u001b[0m\u001b[0;34m]\u001b[0m\u001b[0;34m}\u001b[0m\u001b[0;34m\u001b[0m\u001b[0;34m\u001b[0m\u001b[0m\n\u001b[0m",
            "\u001b[0;31mTypeError\u001b[0m: unhashable type: 'list'"
          ]
        }
      ],
      "source": [
        "data = {1:'일', 3.14:2.71, [1,2]:'라스트', 'list':[1,2,3]}"
      ]
    },
    {
      "cell_type": "code",
      "execution_count": null,
      "metadata": {
        "colab": {
          "base_uri": "https://localhost:8080/"
        },
        "id": "z-YPTDHtcbiT",
        "outputId": "32bcfd4b-357e-4c2b-d3f4-51f3442b6392"
      },
      "outputs": [
        {
          "output_type": "execute_result",
          "data": {
            "text/plain": [
              "{'apple': '2', 'banana': 5, 'orange': 3}"
            ]
          },
          "metadata": {},
          "execution_count": 23
        }
      ],
      "source": [
        "f_cnt = dict((('apple','2'),('banana',5),('orange',3)))\n",
        "f_cnt"
      ]
    },
    {
      "cell_type": "code",
      "execution_count": null,
      "metadata": {
        "colab": {
          "base_uri": "https://localhost:8080/"
        },
        "id": "Xjxk6Mazcwi9",
        "outputId": "0dd5cb4b-9ffa-4367-846e-bfd02838b6fe"
      },
      "outputs": [
        {
          "output_type": "execute_result",
          "data": {
            "text/plain": [
              "{'apple': 4000, 'banana': 300, 'orange': 2000}"
            ]
          },
          "metadata": {},
          "execution_count": 24
        }
      ],
      "source": [
        "f_price = dict(apple=4000, banana = 300, orange = 2000) # 딕셔너리는 진짜 알다가도 모르겠다니까;\n",
        "f_price"
      ]
    },
    {
      "cell_type": "code",
      "execution_count": null,
      "metadata": {
        "colab": {
          "base_uri": "https://localhost:8080/"
        },
        "id": "P8YBJtHvfPYe",
        "outputId": "6610f724-4238-4157-8a5a-a5d849d9d12a"
      },
      "outputs": [
        {
          "output_type": "execute_result",
          "data": {
            "text/plain": [
              "{'라면': 1200, '음료수': 1500, '과자': 800, '삼각김밥': 1700}"
            ]
          },
          "metadata": {},
          "execution_count": 25
        }
      ],
      "source": [
        "mart = {'라면':1200, '음료수':1500, '과자':800}\n",
        "mart['삼각김밥'] = 1700\n",
        "mart"
      ]
    },
    {
      "cell_type": "code",
      "execution_count": null,
      "metadata": {
        "colab": {
          "base_uri": "https://localhost:8080/"
        },
        "id": "QpDYc5G4fYze",
        "outputId": "94061d34-7e89-475d-c8a7-4fa154acb899"
      },
      "outputs": [
        {
          "output_type": "execute_result",
          "data": {
            "text/plain": [
              "{'라면': 1200, '음료수': 1500, '과자': 900, '삼각김밥': 1700}"
            ]
          },
          "metadata": {},
          "execution_count": 26
        }
      ],
      "source": [
        "mart['과자'] = 900\n",
        "mart"
      ]
    },
    {
      "cell_type": "code",
      "execution_count": null,
      "metadata": {
        "colab": {
          "base_uri": "https://localhost:8080/"
        },
        "id": "QjIKtI-GfbxV",
        "outputId": "0bec4960-7b9d-4cff-b524-4ae95617715e"
      },
      "outputs": [
        {
          "output_type": "execute_result",
          "data": {
            "text/plain": [
              "dict_keys(['라면', '음료수', '과자', '삼각김밥'])"
            ]
          },
          "metadata": {},
          "execution_count": 27
        }
      ],
      "source": [
        "mart.keys()"
      ]
    },
    {
      "cell_type": "code",
      "execution_count": null,
      "metadata": {
        "colab": {
          "base_uri": "https://localhost:8080/"
        },
        "id": "r6W6viozfd49",
        "outputId": "089efa27-5846-4e26-f20b-c024ed6e1b2c"
      },
      "outputs": [
        {
          "output_type": "execute_result",
          "data": {
            "text/plain": [
              "dict_values([1200, 1500, 900, 1700])"
            ]
          },
          "metadata": {},
          "execution_count": 28
        }
      ],
      "source": [
        "mart.values()"
      ]
    },
    {
      "cell_type": "code",
      "execution_count": null,
      "metadata": {
        "colab": {
          "base_uri": "https://localhost:8080/"
        },
        "id": "05wPDloVffNb",
        "outputId": "37187420-aca1-4861-dc45-af8f5817960c"
      },
      "outputs": [
        {
          "output_type": "execute_result",
          "data": {
            "text/plain": [
              "dict_items([('라면', 1200), ('음료수', 1500), ('과자', 900), ('삼각김밥', 1700)])"
            ]
          },
          "metadata": {},
          "execution_count": 29
        }
      ],
      "source": [
        "mart.items()"
      ]
    },
    {
      "cell_type": "markdown",
      "metadata": {
        "id": "GjFU9jdJf96n"
      },
      "source": [
        "## 튜플 개요와 활용"
      ]
    },
    {
      "cell_type": "code",
      "execution_count": null,
      "metadata": {
        "colab": {
          "base_uri": "https://localhost:8080/"
        },
        "id": "ZaViyEFoxfvA",
        "outputId": "eab02487-67fa-46ce-8187-6010b4185148"
      },
      "outputs": [
        {
          "output_type": "stream",
          "name": "stdout",
          "text": [
            "(1, 2, 3) (10, 20, 30)\n"
          ]
        }
      ],
      "source": [
        "tp1 = 1,2,3\n",
        "tp2 = (10,20,30)\n",
        "print(tp1, tp2)"
      ]
    },
    {
      "cell_type": "code",
      "execution_count": null,
      "metadata": {
        "colab": {
          "base_uri": "https://localhost:8080/"
        },
        "id": "93Cbtzrrx6vT",
        "outputId": "95cab43b-1278-45c3-8883-5d200fe34c83"
      },
      "outputs": [
        {
          "output_type": "stream",
          "name": "stdout",
          "text": [
            "(10, 20, 30) ('py', 'R')\n"
          ]
        }
      ],
      "source": [
        "tp3 = tuple((10,20,30))\n",
        "tp4 = tuple(['py','R'])\n",
        "print(tp3, tp4)"
      ]
    },
    {
      "cell_type": "code",
      "execution_count": null,
      "metadata": {
        "colab": {
          "base_uri": "https://localhost:8080/"
        },
        "id": "rtQoeElhx9kz",
        "outputId": "9125ad95-4144-4bd4-f2c2-6af5608ac5ee"
      },
      "outputs": [
        {
          "output_type": "execute_result",
          "data": {
            "text/plain": [
              "(1, 2, 3, 4, 5, 6)"
            ]
          },
          "metadata": {},
          "execution_count": 32
        }
      ],
      "source": [
        "tuple1 = (1,2,3)\n",
        "tuple2 = (4,5,6)\n",
        "concatenated_tuple = tuple1 + tuple2\n",
        "concatenated_tuple"
      ]
    },
    {
      "cell_type": "markdown",
      "metadata": {
        "id": "ezXO8RlzyQYb"
      },
      "source": [
        "## 집합 개요와 활용"
      ]
    },
    {
      "cell_type": "code",
      "execution_count": null,
      "metadata": {
        "colab": {
          "base_uri": "https://localhost:8080/"
        },
        "id": "ckxEyhiSyTE4",
        "outputId": "2cc167ab-1966-4601-aa3c-6e842fb055de"
      },
      "outputs": [
        {
          "output_type": "execute_result",
          "data": {
            "text/plain": [
              "{'apple', 'orange', 'pear'}"
            ]
          },
          "metadata": {},
          "execution_count": 33
        }
      ],
      "source": [
        "basket = {'apple','orange','apple','pear'}\n",
        "basket"
      ]
    },
    {
      "cell_type": "code",
      "execution_count": null,
      "metadata": {
        "colab": {
          "base_uri": "https://localhost:8080/"
        },
        "id": "Yok5hFPjyahH",
        "outputId": "5ab31bd8-3670-402f-ec2b-d04e34850699"
      },
      "outputs": [
        {
          "output_type": "execute_result",
          "data": {
            "text/plain": [
              "3"
            ]
          },
          "metadata": {},
          "execution_count": 34
        }
      ],
      "source": [
        "len(basket)"
      ]
    },
    {
      "cell_type": "code",
      "execution_count": null,
      "metadata": {
        "colab": {
          "base_uri": "https://localhost:8080/"
        },
        "id": "W6RG5Dz3ydq-",
        "outputId": "2750ef9d-f679-4a39-a254-367794345853"
      },
      "outputs": [
        {
          "output_type": "stream",
          "name": "stdout",
          "text": [
            "False\n",
            "True\n"
          ]
        }
      ],
      "source": [
        "print('grape' in basket)\n",
        "print ('apple' in basket)"
      ]
    },
    {
      "cell_type": "code",
      "execution_count": null,
      "metadata": {
        "colab": {
          "base_uri": "https://localhost:8080/"
        },
        "id": "TxVnV0e0yk_S",
        "outputId": "62d0a27a-8305-455b-db69-7e1a601b68bc"
      },
      "outputs": [
        {
          "output_type": "stream",
          "name": "stdout",
          "text": [
            "{1, 2, 3, 4, 5, 6, 7}\n",
            "{3, 4}\n",
            "{1, 2}\n",
            "{5, 6, 7}\n",
            "{1, 2, 5, 6, 7}\n"
          ]
        }
      ],
      "source": [
        "A = {1,2,3,4}\n",
        "B = {3,4,5,6,7}\n",
        "print(A.union(B))\n",
        "print(A.intersection(B))\n",
        "print(A.difference(B))\n",
        "print(B.difference(A))\n",
        "print(A.symmetric_difference(B))"
      ]
    },
    {
      "cell_type": "code",
      "execution_count": null,
      "metadata": {
        "colab": {
          "base_uri": "https://localhost:8080/"
        },
        "id": "pO8eGbacy1mf",
        "outputId": "5c4ca37e-15c7-484c-eea5-df6d55c2665c"
      },
      "outputs": [
        {
          "output_type": "stream",
          "name": "stdout",
          "text": [
            "{1, 2, 3, 4, 5, 6, 7}\n",
            "{3, 4}\n",
            "{1, 2}\n",
            "{5, 6, 7}\n",
            "{1, 2, 5, 6, 7}\n"
          ]
        }
      ],
      "source": [
        "A = {1,2,3,4}\n",
        "B = {3,4,5,6,7}\n",
        "print(A|B)\n",
        "print(A & B)\n",
        "print(A - B)\n",
        "print(B-A)\n",
        "print(A^B)"
      ]
    },
    {
      "cell_type": "code",
      "execution_count": null,
      "metadata": {
        "colab": {
          "base_uri": "https://localhost:8080/"
        },
        "id": "4ziRCkSYzL-M",
        "outputId": "493061ba-c827-48f1-9b74-0e19a30860e0"
      },
      "outputs": [
        {
          "output_type": "execute_result",
          "data": {
            "text/plain": [
              "{'apple', 'banana', 'orange', 'pear'}"
            ]
          },
          "metadata": {},
          "execution_count": 38
        }
      ],
      "source": [
        "basket = {'apple','orange','apple','pear'}\n",
        "basket.add('banana')\n",
        "basket"
      ]
    },
    {
      "cell_type": "code",
      "execution_count": null,
      "metadata": {
        "colab": {
          "base_uri": "https://localhost:8080/",
          "height": 202
        },
        "id": "bPfH9Oy8zQ2a",
        "outputId": "e1f3996e-20d3-478a-d3b6-c84ebcd064bc"
      },
      "outputs": [
        {
          "output_type": "stream",
          "name": "stdout",
          "text": [
            "{0}\n"
          ]
        },
        {
          "output_type": "error",
          "ename": "TypeError",
          "evalue": "unhashable type: 'list'",
          "traceback": [
            "\u001b[0;31m---------------------------------------------------------------------------\u001b[0m",
            "\u001b[0;31mTypeError\u001b[0m                                 Traceback (most recent call last)",
            "\u001b[0;32m<ipython-input-39-5d0fead78c5d>\u001b[0m in \u001b[0;36m<cell line: 3>\u001b[0;34m()\u001b[0m\n\u001b[1;32m      1\u001b[0m \u001b[0mmyset\u001b[0m \u001b[0;34m=\u001b[0m \u001b[0;34m{\u001b[0m\u001b[0;36m0\u001b[0m\u001b[0;34m}\u001b[0m\u001b[0;34m\u001b[0m\u001b[0;34m\u001b[0m\u001b[0m\n\u001b[1;32m      2\u001b[0m \u001b[0mprint\u001b[0m\u001b[0;34m(\u001b[0m\u001b[0mmyset\u001b[0m\u001b[0;34m)\u001b[0m\u001b[0;34m\u001b[0m\u001b[0;34m\u001b[0m\u001b[0m\n\u001b[0;32m----> 3\u001b[0;31m \u001b[0mmyset\u001b[0m\u001b[0;34m.\u001b[0m\u001b[0madd\u001b[0m\u001b[0;34m(\u001b[0m\u001b[0;34m[\u001b[0m\u001b[0;36m1\u001b[0m\u001b[0;34m,\u001b[0m\u001b[0;36m2\u001b[0m\u001b[0;34m]\u001b[0m\u001b[0;34m)\u001b[0m\u001b[0;34m\u001b[0m\u001b[0;34m\u001b[0m\u001b[0m\n\u001b[0m",
            "\u001b[0;31mTypeError\u001b[0m: unhashable type: 'list'"
          ]
        }
      ],
      "source": [
        "myset = {0}\n",
        "print(myset)\n",
        "myset.add([1,2])"
      ]
    },
    {
      "cell_type": "code",
      "execution_count": null,
      "metadata": {
        "colab": {
          "base_uri": "https://localhost:8080/"
        },
        "id": "ORsMqjLSzWXx",
        "outputId": "c47729fb-3f65-413b-faf6-f7506cd4a135"
      },
      "outputs": [
        {
          "output_type": "execute_result",
          "data": {
            "text/plain": [
              "{(1, 2), 0}"
            ]
          },
          "metadata": {},
          "execution_count": 40
        }
      ],
      "source": [
        "myset = {0}\n",
        "myset.add((1,2))\n",
        "myset"
      ]
    },
    {
      "cell_type": "code",
      "execution_count": null,
      "metadata": {
        "colab": {
          "base_uri": "https://localhost:8080/"
        },
        "id": "62bvb4YhzaO8",
        "outputId": "681595e9-15c8-49eb-a404-918e4ca16fb1"
      },
      "outputs": [
        {
          "output_type": "execute_result",
          "data": {
            "text/plain": [
              "{(1, 2)}"
            ]
          },
          "metadata": {},
          "execution_count": 41
        }
      ],
      "source": [
        "myset.remove(0)\n",
        "myset"
      ]
    },
    {
      "cell_type": "code",
      "execution_count": null,
      "metadata": {
        "colab": {
          "base_uri": "https://localhost:8080/",
          "height": 147
        },
        "id": "9T1KaC7TziF2",
        "outputId": "0aecae40-4410-4dff-921b-3e0dd4889f88"
      },
      "outputs": [
        {
          "output_type": "error",
          "ename": "TypeError",
          "evalue": "unhashable type: 'list'",
          "traceback": [
            "\u001b[0;31m---------------------------------------------------------------------------\u001b[0m",
            "\u001b[0;31mTypeError\u001b[0m                                 Traceback (most recent call last)",
            "\u001b[0;32m<ipython-input-46-bb4a063cfa33>\u001b[0m in \u001b[0;36m<cell line: 1>\u001b[0;34m()\u001b[0m\n\u001b[0;32m----> 1\u001b[0;31m \u001b[0mprint\u001b[0m\u001b[0;34m(\u001b[0m\u001b[0mhash\u001b[0m\u001b[0;34m(\u001b[0m\u001b[0;34m[\u001b[0m\u001b[0;36m1\u001b[0m\u001b[0;34m,\u001b[0m\u001b[0;36m2\u001b[0m\u001b[0;34m,\u001b[0m\u001b[0;36m3\u001b[0m\u001b[0;34m]\u001b[0m\u001b[0;34m)\u001b[0m\u001b[0;34m)\u001b[0m\u001b[0;34m\u001b[0m\u001b[0;34m\u001b[0m\u001b[0m\n\u001b[0m",
            "\u001b[0;31mTypeError\u001b[0m: unhashable type: 'list'"
          ]
        }
      ],
      "source": [
        "print(hash([1,2,3]))"
      ]
    },
    {
      "cell_type": "code",
      "execution_count": null,
      "metadata": {
        "id": "aKUUZ34dzoQo"
      },
      "outputs": [],
      "source": [
        "print(hash({'one':1}))"
      ]
    },
    {
      "cell_type": "code",
      "execution_count": null,
      "metadata": {
        "colab": {
          "base_uri": "https://localhost:8080/"
        },
        "id": "85MEn-vLzrX1",
        "outputId": "2debf83f-4dcc-41f5-8434-33fe48500d52"
      },
      "outputs": [
        {
          "output_type": "stream",
          "name": "stdout",
          "text": [
            "-2378264077701099865 -3550055125485641917\n"
          ]
        }
      ],
      "source": [
        "print(hash('py'), hash((1,2))) #수정 불가는 한 값"
      ]
    },
    {
      "cell_type": "code",
      "execution_count": null,
      "metadata": {
        "colab": {
          "base_uri": "https://localhost:8080/"
        },
        "id": "SZBoscRhzzuS",
        "outputId": "184034f5-7474-4517-cc07-a8c887cf5cda"
      },
      "outputs": [
        {
          "output_type": "stream",
          "name": "stdout",
          "text": [
            "Help on built-in function id in module builtins:\n",
            "\n",
            "id(obj, /)\n",
            "    Return the identity of an object.\n",
            "    \n",
            "    This is guaranteed to be unique among simultaneously existing objects.\n",
            "    (CPython uses the object's memory address.)\n",
            "\n"
          ]
        }
      ],
      "source": [
        "help(id)"
      ]
    },
    {
      "cell_type": "code",
      "execution_count": null,
      "metadata": {
        "colab": {
          "base_uri": "https://localhost:8080/"
        },
        "id": "4VdoY8Ulz_tq",
        "outputId": "e0bd0613-c523-4094-8f62-08c81139bad3"
      },
      "outputs": [
        {
          "output_type": "stream",
          "name": "stdout",
          "text": [
            "134814557405712 134814557405712\n"
          ]
        }
      ],
      "source": [
        "x, y = 10, 10\n",
        "print(id(x), id(y))"
      ]
    },
    {
      "cell_type": "code",
      "source": [],
      "metadata": {
        "id": "l40eZ3WS3zZC"
      },
      "execution_count": null,
      "outputs": []
    }
  ],
  "metadata": {
    "colab": {
      "provenance": [],
      "include_colab_link": true
    },
    "kernelspec": {
      "display_name": "Python 3",
      "name": "python3"
    },
    "language_info": {
      "name": "python"
    }
  },
  "nbformat": 4,
  "nbformat_minor": 0
}