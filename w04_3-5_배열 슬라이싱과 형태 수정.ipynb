{
  "cells": [
    {
      "cell_type": "markdown",
      "metadata": {
        "colab_type": "text",
        "id": "view-in-github"
      },
      "source": [
        "<a href=\"https://colab.research.google.com/github/yesung05/2024-intro-DA-code/blob/main/w04_5_python_nparray_slicing.ipynb\" target=\"_parent\"><img src=\"https://colab.research.google.com/assets/colab-badge.svg\" alt=\"Open In Colab\"/></a>"
      ]
    },
    {
      "cell_type": "markdown",
      "metadata": {},
      "source": [
        "배열 슬라이싱과 형태 수정\n"
      ]
    },
    {
      "cell_type": "code",
      "execution_count": 1,
      "metadata": {
        "colab": {
          "base_uri": "https://localhost:8080/"
        },
        "id": "fKTr369JiPiC",
        "outputId": "f4e2941c-8fa9-425b-a9a1-a86fc67fe2c1"
      },
      "outputs": [
        {
          "data": {
            "text/plain": [
              "array([ 0,  1,  4,  9, 16, 25, 36, 49, 64, 81])"
            ]
          },
          "execution_count": 1,
          "metadata": {},
          "output_type": "execute_result"
        }
      ],
      "source": [
        "import numpy as np\n",
        "\n",
        "a = np.power(np.arange(10),2) # 2 제곱씩\n",
        "a"
      ]
    },
    {
      "cell_type": "code",
      "execution_count": 2,
      "metadata": {
        "colab": {
          "base_uri": "https://localhost:8080/"
        },
        "id": "-Ob1KPYwicu5",
        "outputId": "f5d2e7cd-228b-483f-e3bc-a00d14541099"
      },
      "outputs": [
        {
          "name": "stdout",
          "output_type": "stream",
          "text": [
            "9\n",
            "64\n"
          ]
        }
      ],
      "source": [
        "print(a[3])\n",
        "print(a[-2]) "
      ]
    },
    {
      "cell_type": "code",
      "execution_count": 3,
      "metadata": {
        "colab": {
          "base_uri": "https://localhost:8080/"
        },
        "id": "FZDRgYDuioXv",
        "outputId": "643a3811-0d48-4fcd-920a-807e94531c7b"
      },
      "outputs": [
        {
          "name": "stdout",
          "output_type": "stream",
          "text": [
            "[1 4 9]\n",
            "[25 36 49 64]\n"
          ]
        }
      ],
      "source": [
        "print(a[1:4]) \n",
        "print(a[-5:-1]) "
      ]
    },
    {
      "cell_type": "code",
      "execution_count": 4,
      "metadata": {
        "colab": {
          "base_uri": "https://localhost:8080/"
        },
        "id": "eBvobctljAtA",
        "outputId": "e7cd975f-adec-4a88-c543-23a775e838a1"
      },
      "outputs": [
        {
          "name": "stdout",
          "output_type": "stream",
          "text": [
            "[64 49 36 25 16  9]\n",
            "[81 64 49 36 25 16]\n"
          ]
        }
      ],
      "source": [
        "print(a[8:2:-1]) \n",
        "print(a[-1:-7:-1])"
      ]
    },
    {
      "cell_type": "code",
      "execution_count": 5,
      "metadata": {
        "colab": {
          "base_uri": "https://localhost:8080/"
        },
        "id": "x57I3TRxjR5N",
        "outputId": "ea73fea9-9f27-462a-c3b1-5f0c64b911fe"
      },
      "outputs": [
        {
          "data": {
            "text/plain": [
              "array([81, 64, 49, 36, 25, 16,  9,  4,  1,  0])"
            ]
          },
          "execution_count": 5,
          "metadata": {},
          "output_type": "execute_result"
        }
      ],
      "source": [
        "a[::-1]"
      ]
    },
    {
      "cell_type": "code",
      "execution_count": 6,
      "metadata": {
        "colab": {
          "base_uri": "https://localhost:8080/"
        },
        "id": "-cJAwwJnjat8",
        "outputId": "70277e8c-bc9f-4c15-b7bd-737faff6c0f2"
      },
      "outputs": [
        {
          "data": {
            "text/plain": [
              "array([81, 49, 25,  9,  1])"
            ]
          },
          "execution_count": 6,
          "metadata": {},
          "output_type": "execute_result"
        }
      ],
      "source": [
        "a[::-2] "
      ]
    },
    {
      "cell_type": "code",
      "execution_count": 7,
      "metadata": {
        "colab": {
          "base_uri": "https://localhost:8080/"
        },
        "id": "5l9v1i2Wjcib",
        "outputId": "692be337-cbfc-4739-ea66-6b81b428ae8a"
      },
      "outputs": [
        {
          "data": {
            "text/plain": [
              "array([   0,    1, -100, -100, -100,   25,   36,   49,   64,   81])"
            ]
          },
          "execution_count": 7,
          "metadata": {},
          "output_type": "execute_result"
        }
      ],
      "source": [
        "a[2:5] = -100\n",
        "a "
      ]
    },
    {
      "cell_type": "code",
      "execution_count": 8,
      "metadata": {
        "colab": {
          "base_uri": "https://localhost:8080/"
        },
        "id": "lmsr4CgDjggV",
        "outputId": "91a8ba59-bb7e-4ff8-dfcc-a3449336c69e"
      },
      "outputs": [
        {
          "data": {
            "text/plain": [
              "array([ 0,  1, -5, -5, -5, 25, 36, 49, 64, 81])"
            ]
          },
          "execution_count": 8,
          "metadata": {},
          "output_type": "execute_result"
        }
      ],
      "source": [
        "a[2:5] =  [-5,-5,-5]\n",
        "a"
      ]
    },
    {
      "cell_type": "code",
      "execution_count": 9,
      "metadata": {
        "colab": {
          "base_uri": "https://localhost:8080/",
          "height": 147
        },
        "id": "VUakH1IokF9N",
        "outputId": "83699c94-8c8c-474f-c6a9-3dc3bc2d7894"
      },
      "outputs": [
        {
          "ename": "ValueError",
          "evalue": "could not broadcast input array from shape (2,) into shape (3,)",
          "output_type": "error",
          "traceback": [
            "\u001b[1;31m---------------------------------------------------------------------------\u001b[0m",
            "\u001b[1;31mValueError\u001b[0m                                Traceback (most recent call last)",
            "Cell \u001b[1;32mIn[9], line 1\u001b[0m\n\u001b[1;32m----> 1\u001b[0m \u001b[43ma\u001b[49m\u001b[43m[\u001b[49m\u001b[38;5;241;43m2\u001b[39;49m\u001b[43m:\u001b[49m\u001b[38;5;241;43m5\u001b[39;49m\u001b[43m]\u001b[49m \u001b[38;5;241m=\u001b[39m [\u001b[38;5;241m-\u001b[39m\u001b[38;5;241m5\u001b[39m,\u001b[38;5;241m-\u001b[39m\u001b[38;5;241m5\u001b[39m] \n",
            "\u001b[1;31mValueError\u001b[0m: could not broadcast input array from shape (2,) into shape (3,)"
          ]
        }
      ],
      "source": [
        "a[2:5] = [-5,-5] "
      ]
    },
    {
      "cell_type": "code",
      "execution_count": 10,
      "metadata": {
        "colab": {
          "base_uri": "https://localhost:8080/"
        },
        "id": "RTAza3ZEkIpj",
        "outputId": "ebb390f3-a26b-41e2-8c3c-c62ec307dabb"
      },
      "outputs": [
        {
          "data": {
            "text/plain": [
              "array([5, 5, 5, 5, 5, 5, 5, 5, 5, 5])"
            ]
          },
          "execution_count": 10,
          "metadata": {},
          "output_type": "execute_result"
        }
      ],
      "source": [
        "b = np.array([5]*10)\n",
        "b\n"
      ]
    },
    {
      "cell_type": "code",
      "execution_count": 11,
      "metadata": {
        "colab": {
          "base_uri": "https://localhost:8080/"
        },
        "id": "LYElrJIokV6A",
        "outputId": "8acddbe9-a7c5-4f15-8e5a-b0f81202ae87"
      },
      "outputs": [
        {
          "data": {
            "text/plain": [
              "array([-10,   5, -10,   5, -10,   5, -10,   5, -10,   5])"
            ]
          },
          "execution_count": 11,
          "metadata": {},
          "output_type": "execute_result"
        }
      ],
      "source": [
        "b[::2] = -10 \n",
        "b"
      ]
    },
    {
      "cell_type": "code",
      "execution_count": 12,
      "metadata": {
        "colab": {
          "base_uri": "https://localhost:8080/"
        },
        "id": "J2X6g-Mnk3Vo",
        "outputId": "0835e6b9-f57b-4dc3-dbdd-e9fd31aac15f"
      },
      "outputs": [
        {
          "data": {
            "text/plain": [
              "array([0, 5, 1, 5, 2, 5, 3, 5, 4, 5])"
            ]
          },
          "execution_count": 12,
          "metadata": {},
          "output_type": "execute_result"
        }
      ],
      "source": [
        "b[::2] = np.arange(5) \n",
        "b"
      ]
    },
    {
      "cell_type": "code",
      "execution_count": 13,
      "metadata": {
        "colab": {
          "base_uri": "https://localhost:8080/"
        },
        "id": "63xmy7j6nPoc",
        "outputId": "ce9e4427-aa65-4279-870f-0cadfe005044"
      },
      "outputs": [
        {
          "data": {
            "text/plain": [
              "array([[ 0,  1,  2,  3,  4,  5],\n",
              "       [ 6,  7,  8,  9, 10, 11],\n",
              "       [12, 13, 14, 15, 16, 17],\n",
              "       [18, 19, 20, 21, 22, 23],\n",
              "       [24, 25, 26, 27, 28, 29]])"
            ]
          },
          "execution_count": 13,
          "metadata": {},
          "output_type": "execute_result"
        }
      ],
      "source": [
        "a = np.arange(30).reshape(5,6) \n",
        "a"
      ]
    },
    {
      "cell_type": "code",
      "execution_count": 14,
      "metadata": {
        "colab": {
          "base_uri": "https://localhost:8080/"
        },
        "id": "nDgBLdHQnVVc",
        "outputId": "47b8965b-4b7b-4fec-fa12-b7216d3955f2"
      },
      "outputs": [
        {
          "data": {
            "text/plain": [
              "array([18, 19, 20, 21, 22, 23])"
            ]
          },
          "execution_count": 14,
          "metadata": {},
          "output_type": "execute_result"
        }
      ],
      "source": [
        "a[3]"
      ]
    },
    {
      "cell_type": "code",
      "execution_count": 15,
      "metadata": {
        "colab": {
          "base_uri": "https://localhost:8080/"
        },
        "id": "ksAnTaZdnbjw",
        "outputId": "3c8cc680-0b13-4bcf-9a37-198bfcce5c50"
      },
      "outputs": [
        {
          "data": {
            "text/plain": [
              "array([24, 25, 26, 27, 28, 29])"
            ]
          },
          "execution_count": 15,
          "metadata": {},
          "output_type": "execute_result"
        }
      ],
      "source": [
        "a[-1]"
      ]
    },
    {
      "cell_type": "code",
      "execution_count": 16,
      "metadata": {
        "colab": {
          "base_uri": "https://localhost:8080/"
        },
        "id": "jQmiPGe7nc24",
        "outputId": "bf29d2d4-be3f-4208-ff18-f674b010ee87"
      },
      "outputs": [
        {
          "data": {
            "text/plain": [
              "array([18, 19, 20, 21, 22, 23])"
            ]
          },
          "execution_count": 16,
          "metadata": {},
          "output_type": "execute_result"
        }
      ],
      "source": [
        "a[-2,:] "
      ]
    },
    {
      "cell_type": "code",
      "execution_count": 17,
      "metadata": {
        "colab": {
          "base_uri": "https://localhost:8080/"
        },
        "id": "Txt3fP-bnmaC",
        "outputId": "247497b9-77ee-4aba-ef44-bbc4d34d9ab4"
      },
      "outputs": [
        {
          "data": {
            "text/plain": [
              "array([[12, 13, 14, 15, 16, 17],\n",
              "       [18, 19, 20, 21, 22, 23]])"
            ]
          },
          "execution_count": 17,
          "metadata": {},
          "output_type": "execute_result"
        }
      ],
      "source": [
        "a[2:4] "
      ]
    },
    {
      "cell_type": "code",
      "execution_count": 18,
      "metadata": {
        "colab": {
          "base_uri": "https://localhost:8080/"
        },
        "id": "08lapKalnt6N",
        "outputId": "0eb7ea34-4645-45d2-cd02-38711493e7a2"
      },
      "outputs": [
        {
          "data": {
            "text/plain": [
              "array([[ 6,  7,  8,  9, 10, 11],\n",
              "       [18, 19, 20, 21, 22, 23]])"
            ]
          },
          "execution_count": 18,
          "metadata": {},
          "output_type": "execute_result"
        }
      ],
      "source": [
        "a[1:5:2]"
      ]
    },
    {
      "cell_type": "code",
      "execution_count": 19,
      "metadata": {
        "colab": {
          "base_uri": "https://localhost:8080/"
        },
        "id": "8sSD-Yw8nwf9",
        "outputId": "40e7374a-4174-4da1-ea8f-160178f9efda"
      },
      "outputs": [
        {
          "data": {
            "text/plain": [
              "array([ 1,  7, 13, 19, 25])"
            ]
          },
          "execution_count": 19,
          "metadata": {},
          "output_type": "execute_result"
        }
      ],
      "source": [
        "a[:,1] "
      ]
    },
    {
      "cell_type": "code",
      "execution_count": 20,
      "metadata": {
        "colab": {
          "base_uri": "https://localhost:8080/"
        },
        "id": "ObTZRezmn8mo",
        "outputId": "7831bc64-f07a-4796-af0f-023c293a0237"
      },
      "outputs": [
        {
          "data": {
            "text/plain": [
              "array([[ 1,  2,  3,  4,  5],\n",
              "       [ 7,  8,  9, 10, 11],\n",
              "       [13, 14, 15, 16, 17],\n",
              "       [19, 20, 21, 22, 23],\n",
              "       [25, 26, 27, 28, 29]])"
            ]
          },
          "execution_count": 20,
          "metadata": {},
          "output_type": "execute_result"
        }
      ],
      "source": [
        "a[:,1:6] "
      ]
    },
    {
      "cell_type": "code",
      "execution_count": 21,
      "metadata": {
        "colab": {
          "base_uri": "https://localhost:8080/"
        },
        "id": "Vt_8itZwoZSx",
        "outputId": "fbc28778-2743-4516-ccd2-c4aff789f9ed"
      },
      "outputs": [
        {
          "data": {
            "text/plain": [
              "array([[ 0,  2,  4],\n",
              "       [ 6,  8, 10],\n",
              "       [12, 14, 16],\n",
              "       [18, 20, 22],\n",
              "       [24, 26, 28]])"
            ]
          },
          "execution_count": 21,
          "metadata": {},
          "output_type": "execute_result"
        }
      ],
      "source": [
        "a[:,::2]"
      ]
    },
    {
      "cell_type": "code",
      "execution_count": 22,
      "metadata": {
        "colab": {
          "base_uri": "https://localhost:8080/"
        },
        "id": "ZeSIAyRuojMb",
        "outputId": "04ebbe8d-192b-4e6b-fdb8-2694b3041073"
      },
      "outputs": [
        {
          "data": {
            "text/plain": [
              "np.int64(16)"
            ]
          },
          "execution_count": 22,
          "metadata": {},
          "output_type": "execute_result"
        }
      ],
      "source": [
        "a[2,4] "
      ]
    },
    {
      "cell_type": "code",
      "execution_count": 23,
      "metadata": {
        "colab": {
          "base_uri": "https://localhost:8080/"
        },
        "id": "RM-eQSY-pBdy",
        "outputId": "5c767874-76a1-460c-ec93-64e0265fd427"
      },
      "outputs": [
        {
          "data": {
            "text/plain": [
              "np.int64(16)"
            ]
          },
          "execution_count": 23,
          "metadata": {},
          "output_type": "execute_result"
        }
      ],
      "source": [
        "a[2][4]"
      ]
    },
    {
      "cell_type": "code",
      "execution_count": 24,
      "metadata": {
        "colab": {
          "base_uri": "https://localhost:8080/"
        },
        "id": "J3weqd_kphzg",
        "outputId": "bab2615b-62cc-422b-ae40-8a4a1f20607f"
      },
      "outputs": [
        {
          "data": {
            "text/plain": [
              "array([[ 8,  9, 10],\n",
              "       [14, 15, 16]])"
            ]
          },
          "execution_count": 24,
          "metadata": {},
          "output_type": "execute_result"
        }
      ],
      "source": [
        "a[1:3,2:5]"
      ]
    },
    {
      "cell_type": "code",
      "execution_count": 25,
      "metadata": {
        "colab": {
          "base_uri": "https://localhost:8080/"
        },
        "id": "nufuw9WDptN_",
        "outputId": "8769e18e-77be-4918-ce9f-efedb8ee6fce"
      },
      "outputs": [
        {
          "data": {
            "text/plain": [
              "array([[ 0,  1,  2,  3,  4,  5],\n",
              "       [ 6,  7,  8,  9, 10, 11],\n",
              "       [12, 13, 14, 15, 16, 17],\n",
              "       [18, 19, 20, 21, 22, 23],\n",
              "       [24, 25, 26, 27, 28, 29]])"
            ]
          },
          "execution_count": 25,
          "metadata": {},
          "output_type": "execute_result"
        }
      ],
      "source": [
        "a[:,:] "
      ]
    },
    {
      "cell_type": "code",
      "execution_count": 26,
      "metadata": {
        "colab": {
          "base_uri": "https://localhost:8080/"
        },
        "id": "WalSKjFMpuIO",
        "outputId": "6b37951e-47ea-4ef4-e23d-08057d0df65c"
      },
      "outputs": [
        {
          "data": {
            "text/plain": [
              "array([[29, 28, 27, 26, 25, 24],\n",
              "       [23, 22, 21, 20, 19, 18],\n",
              "       [17, 16, 15, 14, 13, 12],\n",
              "       [11, 10,  9,  8,  7,  6],\n",
              "       [ 5,  4,  3,  2,  1,  0]])"
            ]
          },
          "execution_count": 26,
          "metadata": {},
          "output_type": "execute_result"
        }
      ],
      "source": [
        "a[::-1,::-1]"
      ]
    },
    {
      "cell_type": "code",
      "execution_count": 27,
      "metadata": {
        "colab": {
          "base_uri": "https://localhost:8080/"
        },
        "id": "4IvnVcH-qIH0",
        "outputId": "9414f0b9-2c21-4cb6-c431-f93080ea440f"
      },
      "outputs": [
        {
          "data": {
            "text/plain": [
              "array([[[ 0,  1,  2,  3],\n",
              "        [ 4,  5,  6,  7],\n",
              "        [ 8,  9, 10, 11]],\n",
              "\n",
              "       [[12, 13, 14, 15],\n",
              "        [16, 17, 18, 19],\n",
              "        [20, 21, 22, 23]]])"
            ]
          },
          "execution_count": 27,
          "metadata": {},
          "output_type": "execute_result"
        }
      ],
      "source": [
        "a = np.arange(24).reshape(2,3,4)\n",
        "a\n"
      ]
    },
    {
      "cell_type": "code",
      "execution_count": 28,
      "metadata": {
        "colab": {
          "base_uri": "https://localhost:8080/"
        },
        "id": "oghpU6SmqNXF",
        "outputId": "53b8423a-a3a5-4f49-8fbe-747207f3dcac"
      },
      "outputs": [
        {
          "data": {
            "text/plain": [
              "array([[12, 13, 14, 15],\n",
              "       [16, 17, 18, 19],\n",
              "       [20, 21, 22, 23]])"
            ]
          },
          "execution_count": 28,
          "metadata": {},
          "output_type": "execute_result"
        }
      ],
      "source": [
        "a[1] "
      ]
    },
    {
      "cell_type": "code",
      "execution_count": 29,
      "metadata": {
        "colab": {
          "base_uri": "https://localhost:8080/"
        },
        "id": "pRSWLPhmqeUf",
        "outputId": "efea8ddd-2958-4b86-be9b-479b0a8184a1"
      },
      "outputs": [
        {
          "data": {
            "text/plain": [
              "array([[ 4,  5,  6,  7],\n",
              "       [16, 17, 18, 19]])"
            ]
          },
          "execution_count": 29,
          "metadata": {},
          "output_type": "execute_result"
        }
      ],
      "source": [
        "a[:,1]"
      ]
    },
    {
      "cell_type": "code",
      "execution_count": 30,
      "metadata": {
        "colab": {
          "base_uri": "https://localhost:8080/"
        },
        "id": "kHPsI4d5qqRj",
        "outputId": "cb22d2d5-026d-4477-d310-0434605debed"
      },
      "outputs": [
        {
          "data": {
            "text/plain": [
              "array([ 5, 17])"
            ]
          },
          "execution_count": 30,
          "metadata": {},
          "output_type": "execute_result"
        }
      ],
      "source": [
        "a[:, 1, 1]"
      ]
    },
    {
      "cell_type": "code",
      "execution_count": 31,
      "metadata": {
        "colab": {
          "base_uri": "https://localhost:8080/"
        },
        "id": "xNpeZQ1erewF",
        "outputId": "b1afae25-9a11-4136-cacc-df513952feb6"
      },
      "outputs": [
        {
          "data": {
            "text/plain": [
              "array([[ 1,  5,  9],\n",
              "       [13, 17, 21]])"
            ]
          },
          "execution_count": 31,
          "metadata": {},
          "output_type": "execute_result"
        }
      ],
      "source": [
        "a[...,1] "
      ]
    },
    {
      "cell_type": "code",
      "execution_count": 32,
      "metadata": {
        "colab": {
          "base_uri": "https://localhost:8080/"
        },
        "id": "5Y_GXcEZrnNF",
        "outputId": "d203e794-481b-4617-f151-e557d25c2994"
      },
      "outputs": [
        {
          "data": {
            "text/plain": [
              "array([13, 17, 21])"
            ]
          },
          "execution_count": 32,
          "metadata": {},
          "output_type": "execute_result"
        }
      ],
      "source": [
        "a[1, ..., 1] "
      ]
    },
    {
      "cell_type": "code",
      "execution_count": 33,
      "metadata": {
        "colab": {
          "base_uri": "https://localhost:8080/"
        },
        "id": "18AvEsEFrv11",
        "outputId": "0e663c33-3f6c-4560-8e0a-76025cef68f1"
      },
      "outputs": [
        {
          "data": {
            "text/plain": [
              "array([[ 0,  1,  2,  3],\n",
              "       [ 4,  5,  6,  7],\n",
              "       [ 8,  9, 10, 11]])"
            ]
          },
          "execution_count": 33,
          "metadata": {},
          "output_type": "execute_result"
        }
      ],
      "source": [
        "a[0,...]"
      ]
    },
    {
      "cell_type": "code",
      "execution_count": 34,
      "metadata": {
        "colab": {
          "base_uri": "https://localhost:8080/"
        },
        "id": "Kzm6n0Rkr5tB",
        "outputId": "cd7ee10c-3bab-4053-f991-2f9a3cdaf7ce"
      },
      "outputs": [
        {
          "data": {
            "text/plain": [
              "array([[ 0,  1,  2,  3],\n",
              "       [ 4,  5,  6,  7],\n",
              "       [ 8,  9, 10, 11]])"
            ]
          },
          "execution_count": 34,
          "metadata": {},
          "output_type": "execute_result"
        }
      ],
      "source": [
        "a[0]"
      ]
    },
    {
      "cell_type": "code",
      "execution_count": 35,
      "metadata": {
        "colab": {
          "base_uri": "https://localhost:8080/"
        },
        "id": "1ZkHYy-Uslw0",
        "outputId": "f9219c95-3f87-4fcc-96a6-23654f25f312"
      },
      "outputs": [
        {
          "data": {
            "text/plain": [
              "array([[[ 0,  1],\n",
              "        [ 2,  3],\n",
              "        [ 4,  5]],\n",
              "\n",
              "       [[ 6,  7],\n",
              "        [ 8,  9],\n",
              "        [10, 11]]])"
            ]
          },
          "execution_count": 35,
          "metadata": {},
          "output_type": "execute_result"
        }
      ],
      "source": [
        "a = np.arange(12).reshape(2,3,2)\n",
        "a"
      ]
    },
    {
      "cell_type": "code",
      "execution_count": 36,
      "metadata": {
        "colab": {
          "base_uri": "https://localhost:8080/"
        },
        "id": "TmILs3FPssaH",
        "outputId": "a9d36df5-57f0-4153-f5ab-5dce2574c86a"
      },
      "outputs": [
        {
          "data": {
            "text/plain": [
              "array([ 0,  1,  2,  3,  4,  5,  6,  7,  8,  9, 10, 11])"
            ]
          },
          "execution_count": 36,
          "metadata": {},
          "output_type": "execute_result"
        }
      ],
      "source": [
        "a.ravel() "
      ]
    },
    {
      "cell_type": "code",
      "execution_count": 37,
      "metadata": {
        "colab": {
          "base_uri": "https://localhost:8080/"
        },
        "id": "0ICPZOJztqz9",
        "outputId": "ac7daab1-9118-499b-8778-61ede6fb77e5"
      },
      "outputs": [
        {
          "data": {
            "text/plain": [
              "array([[1, 2, 3],\n",
              "       [4, 5, 6]])"
            ]
          },
          "execution_count": 37,
          "metadata": {},
          "output_type": "execute_result"
        }
      ],
      "source": [
        "a = np.arange(1,7).reshape(2,3)\n",
        "a"
      ]
    },
    {
      "cell_type": "code",
      "execution_count": 38,
      "metadata": {
        "colab": {
          "base_uri": "https://localhost:8080/"
        },
        "id": "REZj1XvTtxDb",
        "outputId": "75b4fd09-b333-4381-de7f-4cf2495c2310"
      },
      "outputs": [
        {
          "data": {
            "text/plain": [
              "array([[1, 4],\n",
              "       [2, 5],\n",
              "       [3, 6]])"
            ]
          },
          "execution_count": 38,
          "metadata": {},
          "output_type": "execute_result"
        }
      ],
      "source": [
        "np.transpose(a) \n"
      ]
    },
    {
      "cell_type": "code",
      "execution_count": 39,
      "metadata": {
        "colab": {
          "base_uri": "https://localhost:8080/"
        },
        "id": "xi5Nxhu_tzvU",
        "outputId": "fa840745-dc4e-45a9-d629-1041b5e12b96"
      },
      "outputs": [
        {
          "data": {
            "text/plain": [
              "array([[1, 4],\n",
              "       [2, 5],\n",
              "       [3, 6]])"
            ]
          },
          "execution_count": 39,
          "metadata": {},
          "output_type": "execute_result"
        }
      ],
      "source": [
        "a.transpose() "
      ]
    },
    {
      "cell_type": "code",
      "execution_count": 40,
      "metadata": {
        "colab": {
          "base_uri": "https://localhost:8080/"
        },
        "id": "ozEYgHl4t3sU",
        "outputId": "a9d81082-a7c9-4f7c-cb0c-3400222f63cd"
      },
      "outputs": [
        {
          "data": {
            "text/plain": [
              "array([[1, 4],\n",
              "       [2, 5],\n",
              "       [3, 6]])"
            ]
          },
          "execution_count": 40,
          "metadata": {},
          "output_type": "execute_result"
        }
      ],
      "source": [
        "a.T "
      ]
    },
    {
      "cell_type": "code",
      "execution_count": 41,
      "metadata": {
        "colab": {
          "base_uri": "https://localhost:8080/"
        },
        "id": "m_25mos3t0vD",
        "outputId": "08ad6580-9eef-438e-8269-5e879d92bd07"
      },
      "outputs": [
        {
          "data": {
            "text/plain": [
              "array([[1, 2, 3],\n",
              "       [4, 5, 6]])"
            ]
          },
          "execution_count": 41,
          "metadata": {},
          "output_type": "execute_result"
        }
      ],
      "source": [
        "np.transpose(a,(0,1))"
      ]
    },
    {
      "cell_type": "code",
      "execution_count": 42,
      "metadata": {
        "colab": {
          "base_uri": "https://localhost:8080/"
        },
        "id": "5Etf8t6xxLwc",
        "outputId": "b58d87b0-a4a2-47d5-bd90-394858d58b84"
      },
      "outputs": [
        {
          "data": {
            "text/plain": [
              "array([[1, 4],\n",
              "       [2, 5],\n",
              "       [3, 6]])"
            ]
          },
          "execution_count": 42,
          "metadata": {},
          "output_type": "execute_result"
        }
      ],
      "source": [
        "np.transpose(a,(1,0))"
      ]
    },
    {
      "cell_type": "code",
      "execution_count": 43,
      "metadata": {
        "colab": {
          "base_uri": "https://localhost:8080/"
        },
        "id": "3im1xQYkxQMl",
        "outputId": "011607e9-6dbd-4769-dcff-6c10ba213870"
      },
      "outputs": [
        {
          "data": {
            "text/plain": [
              "array([[[ 1,  2],\n",
              "        [ 3,  4]],\n",
              "\n",
              "       [[ 5,  6],\n",
              "        [ 7,  8]],\n",
              "\n",
              "       [[ 9, 10],\n",
              "        [11, 12]]])"
            ]
          },
          "execution_count": 43,
          "metadata": {},
          "output_type": "execute_result"
        }
      ],
      "source": [
        "b = np.arange(1,13).reshape(3,2,2)\n",
        "b"
      ]
    },
    {
      "cell_type": "code",
      "execution_count": 44,
      "metadata": {
        "colab": {
          "base_uri": "https://localhost:8080/"
        },
        "id": "Lcpl4ER5xvVs",
        "outputId": "870bd573-c2d3-4fe3-cc4c-eace89e4e288"
      },
      "outputs": [
        {
          "data": {
            "text/plain": [
              "array([[[ 1,  5,  9],\n",
              "        [ 3,  7, 11]],\n",
              "\n",
              "       [[ 2,  6, 10],\n",
              "        [ 4,  8, 12]]])"
            ]
          },
          "execution_count": 44,
          "metadata": {},
          "output_type": "execute_result"
        }
      ],
      "source": [
        "b.T"
      ]
    },
    {
      "cell_type": "code",
      "execution_count": 45,
      "metadata": {
        "colab": {
          "base_uri": "https://localhost:8080/"
        },
        "id": "KRnEvPHUxwr_",
        "outputId": "762f168d-9c3b-4020-ed44-d986933a162d"
      },
      "outputs": [
        {
          "data": {
            "text/plain": [
              "array([[[ 1,  2],\n",
              "        [ 3,  4]],\n",
              "\n",
              "       [[ 5,  6],\n",
              "        [ 7,  8]],\n",
              "\n",
              "       [[ 9, 10],\n",
              "        [11, 12]]])"
            ]
          },
          "execution_count": 45,
          "metadata": {},
          "output_type": "execute_result"
        }
      ],
      "source": [
        "np.transpose(b,(0,1,2)) "
      ]
    },
    {
      "cell_type": "code",
      "execution_count": 46,
      "metadata": {
        "colab": {
          "base_uri": "https://localhost:8080/"
        },
        "id": "8cYZXCWEyF3Z",
        "outputId": "fa4d8caa-7d95-49f1-90cd-9e16cea6ada5"
      },
      "outputs": [
        {
          "data": {
            "text/plain": [
              "array([[[ 1,  5,  9],\n",
              "        [ 3,  7, 11]],\n",
              "\n",
              "       [[ 2,  6, 10],\n",
              "        [ 4,  8, 12]]])"
            ]
          },
          "execution_count": 46,
          "metadata": {},
          "output_type": "execute_result"
        }
      ],
      "source": [
        "np. transpose(b,(2,1,0))"
      ]
    },
    {
      "cell_type": "code",
      "execution_count": 47,
      "metadata": {
        "colab": {
          "base_uri": "https://localhost:8080/"
        },
        "id": "_psqaGSTyI3_",
        "outputId": "c78716e8-ec15-49d3-b447-077d7344c5ae"
      },
      "outputs": [
        {
          "data": {
            "text/plain": [
              "array([[[ 1,  3],\n",
              "        [ 2,  4]],\n",
              "\n",
              "       [[ 5,  7],\n",
              "        [ 6,  8]],\n",
              "\n",
              "       [[ 9, 11],\n",
              "        [10, 12]]])"
            ]
          },
          "execution_count": 47,
          "metadata": {},
          "output_type": "execute_result"
        }
      ],
      "source": [
        "np.transpose(b,(0,2,1))"
      ]
    },
    {
      "cell_type": "code",
      "execution_count": 48,
      "metadata": {
        "colab": {
          "base_uri": "https://localhost:8080/"
        },
        "id": "N-_SyT9iyW-R",
        "outputId": "f8f1d7b1-8d0c-404d-eee1-abec85a8191d"
      },
      "outputs": [
        {
          "data": {
            "text/plain": [
              "array([[[ 1,  2,  3],\n",
              "        [ 4,  5,  6]],\n",
              "\n",
              "       [[ 7,  8,  9],\n",
              "        [10, 11, 12]]])"
            ]
          },
          "execution_count": 48,
          "metadata": {},
          "output_type": "execute_result"
        }
      ],
      "source": [
        "c = np.arange(1,13).reshape(2,2,3)\n",
        "c"
      ]
    },
    {
      "cell_type": "code",
      "execution_count": 49,
      "metadata": {
        "colab": {
          "base_uri": "https://localhost:8080/"
        },
        "id": "byRzaVZrybfx",
        "outputId": "3e594e5b-2932-4a39-f4ee-e6dd91b34bb6"
      },
      "outputs": [
        {
          "data": {
            "text/plain": [
              "array([[[ 1,  7],\n",
              "        [ 2,  8],\n",
              "        [ 3,  9]],\n",
              "\n",
              "       [[ 4, 10],\n",
              "        [ 5, 11],\n",
              "        [ 6, 12]]])"
            ]
          },
          "execution_count": 49,
          "metadata": {},
          "output_type": "execute_result"
        }
      ],
      "source": [
        "c.transpose(1,2,0)"
      ]
    },
    {
      "cell_type": "code",
      "execution_count": 50,
      "metadata": {
        "colab": {
          "base_uri": "https://localhost:8080/"
        },
        "id": "mBdI1tGKyf93",
        "outputId": "93953de7-e426-448b-b5c7-7ab81ef57a08"
      },
      "outputs": [
        {
          "data": {
            "text/plain": [
              "array([[[ 1,  7],\n",
              "        [ 2,  8],\n",
              "        [ 3,  9]],\n",
              "\n",
              "       [[ 4, 10],\n",
              "        [ 5, 11],\n",
              "        [ 6, 12]]])"
            ]
          },
          "execution_count": 50,
          "metadata": {},
          "output_type": "execute_result"
        }
      ],
      "source": [
        "np.transpose(c,(1,2,0))"
      ]
    },
    {
      "cell_type": "code",
      "execution_count": 51,
      "metadata": {
        "colab": {
          "base_uri": "https://localhost:8080/"
        },
        "id": "AaZ6lpfTyjnx",
        "outputId": "4692db82-bec0-48b3-e1f1-2c4e1077eb00"
      },
      "outputs": [
        {
          "data": {
            "text/plain": [
              "array([[[ 1,  7],\n",
              "        [ 4, 10]],\n",
              "\n",
              "       [[ 2,  8],\n",
              "        [ 5, 11]],\n",
              "\n",
              "       [[ 3,  9],\n",
              "        [ 6, 12]]])"
            ]
          },
          "execution_count": 51,
          "metadata": {},
          "output_type": "execute_result"
        }
      ],
      "source": [
        "np.transpose(c) "
      ]
    },
    {
      "cell_type": "code",
      "execution_count": 52,
      "metadata": {
        "colab": {
          "base_uri": "https://localhost:8080/"
        },
        "id": "-4cB4EwzytoC",
        "outputId": "6f9ffa91-4dfd-4405-916a-3bc209cdad46"
      },
      "outputs": [
        {
          "data": {
            "text/plain": [
              "array([[7, 8, 9]])"
            ]
          },
          "execution_count": 52,
          "metadata": {},
          "output_type": "execute_result"
        }
      ],
      "source": [
        "x = np.array([[7,8,9]]) \n",
        "x"
      ]
    },
    {
      "cell_type": "code",
      "execution_count": 53,
      "metadata": {
        "colab": {
          "base_uri": "https://localhost:8080/"
        },
        "id": "Ev9PfSaLy7T5",
        "outputId": "b52c6911-68a8-47e5-cd1b-44c39b632875"
      },
      "outputs": [
        {
          "data": {
            "text/plain": [
              "array([[7],\n",
              "       [8],\n",
              "       [9]])"
            ]
          },
          "execution_count": 53,
          "metadata": {},
          "output_type": "execute_result"
        }
      ],
      "source": [
        "y = np.swapaxes(x,0,1)\n",
        "y"
      ]
    },
    {
      "cell_type": "code",
      "execution_count": 54,
      "metadata": {
        "colab": {
          "base_uri": "https://localhost:8080/"
        },
        "id": "ZxfbCmtEy9XC",
        "outputId": "3ccab5e6-fa71-4ae6-b538-bd7588da56b6"
      },
      "outputs": [
        {
          "data": {
            "text/plain": [
              "array([[10,  8,  9]])"
            ]
          },
          "execution_count": 54,
          "metadata": {},
          "output_type": "execute_result"
        }
      ],
      "source": [
        "y[0,0] = 10 \n",
        "x"
      ]
    },
    {
      "cell_type": "code",
      "execution_count": 55,
      "metadata": {
        "colab": {
          "base_uri": "https://localhost:8080/"
        },
        "id": "ePkD68jnznfw",
        "outputId": "8e2fbc30-9ad6-45d3-8d13-2faf7f3e2b48"
      },
      "outputs": [
        {
          "data": {
            "text/plain": [
              "array([[[0, 1],\n",
              "        [2, 3]],\n",
              "\n",
              "       [[4, 5],\n",
              "        [6, 7]]])"
            ]
          },
          "execution_count": 55,
          "metadata": {},
          "output_type": "execute_result"
        }
      ],
      "source": [
        "x =  np.array(np.arange(8).reshape(2,2,2))\n",
        "x"
      ]
    },
    {
      "cell_type": "code",
      "execution_count": 56,
      "metadata": {
        "colab": {
          "base_uri": "https://localhost:8080/"
        },
        "id": "f2s5u2qdz4MR",
        "outputId": "57523fc9-9211-4e33-f342-96f0052ab7c5"
      },
      "outputs": [
        {
          "data": {
            "text/plain": [
              "array([[[0, 4],\n",
              "        [2, 6]],\n",
              "\n",
              "       [[1, 5],\n",
              "        [3, 7]]])"
            ]
          },
          "execution_count": 56,
          "metadata": {},
          "output_type": "execute_result"
        }
      ],
      "source": [
        "np.swapaxes(x,0,2) "
      ]
    },
    {
      "cell_type": "code",
      "execution_count": 57,
      "metadata": {
        "colab": {
          "base_uri": "https://localhost:8080/"
        },
        "id": "sMflaM1qz6sA",
        "outputId": "e6c30a17-68cc-4cb0-f40c-ad736ef0276f"
      },
      "outputs": [
        {
          "data": {
            "text/plain": [
              "array([[[0, 4],\n",
              "        [2, 6]],\n",
              "\n",
              "       [[1, 5],\n",
              "        [3, 7]]])"
            ]
          },
          "execution_count": 57,
          "metadata": {},
          "output_type": "execute_result"
        }
      ],
      "source": [
        "np.transpose(x,(2,1,0))"
      ]
    },
    {
      "cell_type": "code",
      "execution_count": 58,
      "metadata": {
        "colab": {
          "base_uri": "https://localhost:8080/"
        },
        "id": "Q6s1Gv3401gV",
        "outputId": "9bb005fe-89a6-4a9b-cd66-6841b088e064"
      },
      "outputs": [
        {
          "data": {
            "text/plain": [
              "array([0, 1, 2, 3, 4])"
            ]
          },
          "execution_count": 58,
          "metadata": {},
          "output_type": "execute_result"
        }
      ],
      "source": [
        "org = np.arange(5)\n",
        "org"
      ]
    },
    {
      "cell_type": "code",
      "execution_count": 59,
      "metadata": {
        "colab": {
          "base_uri": "https://localhost:8080/"
        },
        "id": "TSY8jlOd033S",
        "outputId": "3730ad7a-b2b4-4008-a73a-ddb3377904c4"
      },
      "outputs": [
        {
          "data": {
            "text/plain": [
              "array([0, 1, 2, 3, 4])"
            ]
          },
          "execution_count": 59,
          "metadata": {},
          "output_type": "execute_result"
        }
      ],
      "source": [
        "v = org.view()\n",
        "v"
      ]
    },
    {
      "cell_type": "code",
      "execution_count": 60,
      "metadata": {
        "colab": {
          "base_uri": "https://localhost:8080/"
        },
        "id": "5a-79aRM06On",
        "outputId": "008e283d-5d9d-4820-9f5f-07cd34e177c1"
      },
      "outputs": [
        {
          "data": {
            "text/plain": [
              "array([  0,   1, 200,   3,   4])"
            ]
          },
          "execution_count": 60,
          "metadata": {},
          "output_type": "execute_result"
        }
      ],
      "source": [
        "v[2] = 200\n",
        "v"
      ]
    },
    {
      "cell_type": "code",
      "execution_count": 61,
      "metadata": {
        "colab": {
          "base_uri": "https://localhost:8080/"
        },
        "id": "f4fVhmaW0-cJ",
        "outputId": "7f9add65-5de4-40c8-b0ae-210a4d63d5e9"
      },
      "outputs": [
        {
          "data": {
            "text/plain": [
              "array([  0,   1, 200,   3,   4])"
            ]
          },
          "execution_count": 61,
          "metadata": {},
          "output_type": "execute_result"
        }
      ],
      "source": [
        "org"
      ]
    },
    {
      "cell_type": "code",
      "execution_count": 62,
      "metadata": {
        "colab": {
          "base_uri": "https://localhost:8080/"
        },
        "id": "RobkRXaA0-q6",
        "outputId": "9c8dbe71-a0cd-42ba-cee6-2189bc57bf08"
      },
      "outputs": [
        {
          "data": {
            "text/plain": [
              "array([0, 1, 2, 3, 4])"
            ]
          },
          "execution_count": 62,
          "metadata": {},
          "output_type": "execute_result"
        }
      ],
      "source": [
        "org = np.arange(5)\n",
        "org"
      ]
    },
    {
      "cell_type": "code",
      "execution_count": 63,
      "metadata": {
        "colab": {
          "base_uri": "https://localhost:8080/"
        },
        "id": "mCRJciFR1Cns",
        "outputId": "b7bb93f3-5703-491f-a047-fa461bb46e43"
      },
      "outputs": [
        {
          "data": {
            "text/plain": [
              "array([0, 1, 2, 3, 4])"
            ]
          },
          "execution_count": 63,
          "metadata": {},
          "output_type": "execute_result"
        }
      ],
      "source": [
        "c = org.copy()\n",
        "c"
      ]
    },
    {
      "cell_type": "code",
      "execution_count": 64,
      "metadata": {
        "colab": {
          "base_uri": "https://localhost:8080/"
        },
        "id": "br0enw3g1EfP",
        "outputId": "40a18944-7f61-409b-b491-de96b622cd0a"
      },
      "outputs": [
        {
          "data": {
            "text/plain": [
              "array([  0,   1, 200,   3,   4])"
            ]
          },
          "execution_count": 64,
          "metadata": {},
          "output_type": "execute_result"
        }
      ],
      "source": [
        "c[2] = 200\n",
        "c"
      ]
    },
    {
      "cell_type": "code",
      "execution_count": 65,
      "metadata": {
        "colab": {
          "base_uri": "https://localhost:8080/"
        },
        "id": "zMeFQC3a1Gme",
        "outputId": "65bd0b57-a250-4b88-9a56-137bec4addf8"
      },
      "outputs": [
        {
          "data": {
            "text/plain": [
              "array([0, 1, 2, 3, 4])"
            ]
          },
          "execution_count": 65,
          "metadata": {},
          "output_type": "execute_result"
        }
      ],
      "source": [
        "org"
      ]
    },
    {
      "cell_type": "code",
      "execution_count": 66,
      "metadata": {
        "colab": {
          "base_uri": "https://localhost:8080/"
        },
        "id": "qO6sZHFG1JUW",
        "outputId": "3578b7a6-c19e-4e92-a1c2-0f5b536a4d80"
      },
      "outputs": [
        {
          "data": {
            "text/plain": [
              "array([0, 1, 2, 3, 4, 5])"
            ]
          },
          "execution_count": 66,
          "metadata": {},
          "output_type": "execute_result"
        }
      ],
      "source": [
        "x = np.arange(6)\n",
        "x"
      ]
    },
    {
      "cell_type": "code",
      "execution_count": 67,
      "metadata": {
        "colab": {
          "base_uri": "https://localhost:8080/"
        },
        "id": "PzQI2NHG1LqE",
        "outputId": "c5ac7e04-b46e-44f2-fe57-a9423bf2b46b"
      },
      "outputs": [
        {
          "data": {
            "text/plain": [
              "array([[0, 1, 2],\n",
              "       [3, 4, 5]])"
            ]
          },
          "execution_count": 67,
          "metadata": {},
          "output_type": "execute_result"
        }
      ],
      "source": [
        "y = x.reshape(2,3)\n",
        "y"
      ]
    },
    {
      "cell_type": "code",
      "execution_count": 68,
      "metadata": {
        "colab": {
          "base_uri": "https://localhost:8080/"
        },
        "id": "DeZsHAPc1Nm5",
        "outputId": "1e6baea5-8d10-489d-9280-a38863466a7c"
      },
      "outputs": [
        {
          "data": {
            "text/plain": [
              "array([0, 1, 2, 3, 4, 5])"
            ]
          },
          "execution_count": 68,
          "metadata": {},
          "output_type": "execute_result"
        }
      ],
      "source": [
        "y.base "
      ]
    },
    {
      "cell_type": "code",
      "execution_count": 69,
      "metadata": {
        "colab": {
          "base_uri": "https://localhost:8080/"
        },
        "id": "oDC_qo4r1PSu",
        "outputId": "5b3a21da-7683-4a19-95d7-26d732924dfe"
      },
      "outputs": [
        {
          "data": {
            "text/plain": [
              "array([0, 1, 2, 3, 4, 5])"
            ]
          },
          "execution_count": 69,
          "metadata": {},
          "output_type": "execute_result"
        }
      ],
      "source": [
        "z = y.transpose()\n",
        "z.base"
      ]
    },
    {
      "cell_type": "code",
      "execution_count": 70,
      "metadata": {
        "colab": {
          "base_uri": "https://localhost:8080/"
        },
        "id": "Gx-hu3OU1vIk",
        "outputId": "07646375-ec2a-479e-a664-0675ea01f6cf"
      },
      "outputs": [
        {
          "name": "stdout",
          "output_type": "stream",
          "text": [
            "None\n"
          ]
        }
      ],
      "source": [
        "c = z.copy()\n",
        "print(c.base)"
      ]
    },
    {
      "cell_type": "code",
      "execution_count": 71,
      "metadata": {
        "colab": {
          "base_uri": "https://localhost:8080/"
        },
        "id": "75oiqJgc13BG",
        "outputId": "e1b63485-24d0-4f03-c140-f89a9931582d"
      },
      "outputs": [
        {
          "data": {
            "text/plain": [
              "[0, 1, 2, 3, 4, 5, 6, 7]"
            ]
          },
          "execution_count": 71,
          "metadata": {},
          "output_type": "execute_result"
        }
      ],
      "source": [
        "lst = list(range(8))\n",
        "lst"
      ]
    },
    {
      "cell_type": "code",
      "execution_count": 72,
      "metadata": {
        "colab": {
          "base_uri": "https://localhost:8080/"
        },
        "id": "K-WOM0VP15PS",
        "outputId": "94b208f2-7cb8-4ca0-b7de-285fa5841cd3"
      },
      "outputs": [
        {
          "data": {
            "text/plain": [
              "[0, 1, 2, 30, 40, 50, 5, 6, 7]"
            ]
          },
          "execution_count": 72,
          "metadata": {},
          "output_type": "execute_result"
        }
      ],
      "source": [
        "lst[3:5] = [30,40,50] \n",
        "lst"
      ]
    },
    {
      "cell_type": "code",
      "execution_count": 73,
      "metadata": {
        "colab": {
          "base_uri": "https://localhost:8080/"
        },
        "id": "NIhy1f7a19hT",
        "outputId": "7a473943-cdd8-4149-b86f-297a02de89c1"
      },
      "outputs": [
        {
          "data": {
            "text/plain": [
              "array([0, 1, 2, 3, 4, 5, 6, 7])"
            ]
          },
          "execution_count": 73,
          "metadata": {},
          "output_type": "execute_result"
        }
      ],
      "source": [
        "x = np.arange(8)\n",
        "x"
      ]
    },
    {
      "cell_type": "code",
      "execution_count": 74,
      "metadata": {
        "colab": {
          "base_uri": "https://localhost:8080/"
        },
        "id": "9nZIBMpo2D_-",
        "outputId": "428cffc4-6368-4d2f-80dd-8a5e28445754"
      },
      "outputs": [
        {
          "data": {
            "text/plain": [
              "array([ 0,  1,  2, 30, 40,  5,  6,  7])"
            ]
          },
          "execution_count": 74,
          "metadata": {},
          "output_type": "execute_result"
        }
      ],
      "source": [
        "x[3:5] = [30,40] \n",
        "x"
      ]
    },
    {
      "cell_type": "code",
      "execution_count": 75,
      "metadata": {
        "colab": {
          "base_uri": "https://localhost:8080/",
          "height": 166
        },
        "id": "YjXgRuyx2GZP",
        "outputId": "378ee888-d92f-496b-ba1d-59f4647f5444"
      },
      "outputs": [
        {
          "ename": "ValueError",
          "evalue": "could not broadcast input array from shape (3,) into shape (2,)",
          "output_type": "error",
          "traceback": [
            "\u001b[1;31m---------------------------------------------------------------------------\u001b[0m",
            "\u001b[1;31mValueError\u001b[0m                                Traceback (most recent call last)",
            "Cell \u001b[1;32mIn[75], line 1\u001b[0m\n\u001b[1;32m----> 1\u001b[0m \u001b[43mx\u001b[49m\u001b[43m[\u001b[49m\u001b[38;5;241;43m3\u001b[39;49m\u001b[43m:\u001b[49m\u001b[38;5;241;43m5\u001b[39;49m\u001b[43m]\u001b[49m \u001b[38;5;241m=\u001b[39m [\u001b[38;5;241m30\u001b[39m,\u001b[38;5;241m40\u001b[39m,\u001b[38;5;241m50\u001b[39m]\n\u001b[0;32m      2\u001b[0m x\n",
            "\u001b[1;31mValueError\u001b[0m: could not broadcast input array from shape (3,) into shape (2,)"
          ]
        }
      ],
      "source": [
        "x[3:5] = [30,40,50]\n",
        "x"
      ]
    },
    {
      "cell_type": "code",
      "execution_count": 76,
      "metadata": {
        "colab": {
          "base_uri": "https://localhost:8080/"
        },
        "id": "HiaN0Jmi2PQj",
        "outputId": "8cd519f3-9d84-41ac-9560-510c0a64c1dc"
      },
      "outputs": [
        {
          "data": {
            "text/plain": [
              "array([[1, 2, 3],\n",
              "       [4, 5, 6]])"
            ]
          },
          "execution_count": 76,
          "metadata": {},
          "output_type": "execute_result"
        }
      ],
      "source": [
        "a = np.array([[1,2,3],[4,5,6]])\n",
        "a"
      ]
    },
    {
      "cell_type": "code",
      "execution_count": 77,
      "metadata": {
        "colab": {
          "base_uri": "https://localhost:8080/"
        },
        "id": "Qn4x_lZT2Y1b",
        "outputId": "dd4738fc-3ada-47fb-ba49-3ac2dc0adb32"
      },
      "outputs": [
        {
          "data": {
            "text/plain": [
              "True"
            ]
          },
          "execution_count": 77,
          "metadata": {},
          "output_type": "execute_result"
        }
      ],
      "source": [
        "b = a \n",
        "b is a"
      ]
    },
    {
      "cell_type": "code",
      "execution_count": 78,
      "metadata": {
        "colab": {
          "base_uri": "https://localhost:8080/"
        },
        "id": "Art9l_Ps2aag",
        "outputId": "87e0d2f2-c65f-402b-ccf9-29bcb1c930a2"
      },
      "outputs": [
        {
          "name": "stdout",
          "output_type": "stream",
          "text": [
            "1548314926064\n",
            "1548314926064\n"
          ]
        }
      ],
      "source": [
        "print(id(a))\n",
        "print(id(b))"
      ]
    },
    {
      "cell_type": "code",
      "execution_count": 79,
      "metadata": {
        "colab": {
          "base_uri": "https://localhost:8080/"
        },
        "id": "U09lJvZX2dfx",
        "outputId": "977ddef1-df8e-4a1f-868b-dc6349eff9cd"
      },
      "outputs": [
        {
          "name": "stdout",
          "output_type": "stream",
          "text": [
            "None\n"
          ]
        }
      ],
      "source": [
        "print(b.base)"
      ]
    },
    {
      "cell_type": "code",
      "execution_count": 80,
      "metadata": {
        "colab": {
          "base_uri": "https://localhost:8080/"
        },
        "id": "VingY0xh2gBB",
        "outputId": "78ad1f48-79d8-493b-c54a-3e0251f12cc4"
      },
      "outputs": [
        {
          "data": {
            "text/plain": [
              "array([[100,   2,   3],\n",
              "       [  4,   5,   6]])"
            ]
          },
          "execution_count": 80,
          "metadata": {},
          "output_type": "execute_result"
        }
      ],
      "source": [
        "b[0,0] = 100\n",
        "a"
      ]
    },
    {
      "cell_type": "code",
      "execution_count": 81,
      "metadata": {
        "colab": {
          "base_uri": "https://localhost:8080/"
        },
        "id": "TzjJ2qvA2oih",
        "outputId": "63665f90-c165-4f0d-b9da-3f65fac57cca"
      },
      "outputs": [
        {
          "data": {
            "text/plain": [
              "array([[100,   2],\n",
              "       [  3,   4],\n",
              "       [  5,   6]])"
            ]
          },
          "execution_count": 81,
          "metadata": {},
          "output_type": "execute_result"
        }
      ],
      "source": [
        "v = a.reshape(3,2)\n",
        "v"
      ]
    },
    {
      "cell_type": "code",
      "execution_count": 82,
      "metadata": {
        "colab": {
          "base_uri": "https://localhost:8080/"
        },
        "id": "U7ZHaJTA2pq1",
        "outputId": "96f75020-549c-417b-a236-56d8bf5f3e6a"
      },
      "outputs": [
        {
          "name": "stdout",
          "output_type": "stream",
          "text": [
            "1548314926064\n",
            "1548314925008\n"
          ]
        }
      ],
      "source": [
        "print(id(a))\n",
        "print(id(v))"
      ]
    },
    {
      "cell_type": "code",
      "execution_count": 83,
      "metadata": {
        "colab": {
          "base_uri": "https://localhost:8080/"
        },
        "id": "ZgS8QR1A2uhv",
        "outputId": "6229e87e-3432-46fa-ea22-fb62cbf350a3"
      },
      "outputs": [
        {
          "data": {
            "text/plain": [
              "array([[100, 200,   3],\n",
              "       [  4,   5,   6]])"
            ]
          },
          "execution_count": 83,
          "metadata": {},
          "output_type": "execute_result"
        }
      ],
      "source": [
        "v[0,1] = 200\n",
        "a"
      ]
    },
    {
      "cell_type": "code",
      "execution_count": 84,
      "metadata": {
        "colab": {
          "base_uri": "https://localhost:8080/"
        },
        "id": "77hZGgdv27CI",
        "outputId": "ab52a03c-759c-4625-9d16-5b14bab6db11"
      },
      "outputs": [
        {
          "data": {
            "text/plain": [
              "array([[100, 200,   3],\n",
              "       [  4,   5,   6]])"
            ]
          },
          "execution_count": 84,
          "metadata": {},
          "output_type": "execute_result"
        }
      ],
      "source": [
        "v.base"
      ]
    }
  ],
  "metadata": {
    "colab": {
      "authorship_tag": "ABX9TyPeBF7a0Xun2PQat1UUiY7Q",
      "include_colab_link": true,
      "provenance": []
    },
    "kernelspec": {
      "display_name": "Python 3",
      "name": "python3"
    },
    "language_info": {
      "codemirror_mode": {
        "name": "ipython",
        "version": 3
      },
      "file_extension": ".py",
      "mimetype": "text/x-python",
      "name": "python",
      "nbconvert_exporter": "python",
      "pygments_lexer": "ipython3",
      "version": "3.12.2"
    }
  },
  "nbformat": 4,
  "nbformat_minor": 0
}
