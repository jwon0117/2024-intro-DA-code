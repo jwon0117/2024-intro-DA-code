{
  "cells": [
    {
      "cell_type": "markdown",
      "metadata": {
        "colab_type": "text",
        "id": "view-in-github"
      },
      "source": [
        "<a href=\"https://colab.research.google.com/github/yesung05/2024-intro-DA-code/blob/main/w04_4_nparray_calculate.ipynb\" target=\"_parent\"><img src=\"https://colab.research.google.com/assets/colab-badge.svg\" alt=\"Open In Colab\"/></a>"
      ]
    },
    {
      "cell_type": "markdown",
      "metadata": {},
      "source": [
        "배열 연산\n"
      ]
    },
    {
      "cell_type": "code",
      "execution_count": 1,
      "metadata": {
        "colab": {
          "base_uri": "https://localhost:8080/"
        },
        "id": "W8xBqBJr_WlD",
        "outputId": "9fcd7d4c-9ace-4da5-f794-f99f49e3824c"
      },
      "outputs": [
        {
          "data": {
            "text/plain": [
              "array([0, 1, 2])"
            ]
          },
          "execution_count": 1,
          "metadata": {},
          "output_type": "execute_result"
        }
      ],
      "source": [
        "import numpy as np\n",
        "\n",
        "a = np.arange(3)\n",
        "a    "
      ]
    },
    {
      "cell_type": "code",
      "execution_count": 2,
      "metadata": {
        "colab": {
          "base_uri": "https://localhost:8080/"
        },
        "id": "nyTKIhD0_aG9",
        "outputId": "78886dec-2259-4fac-bd15-98cdf78e010d"
      },
      "outputs": [
        {
          "name": "stdout",
          "output_type": "stream",
          "text": [
            "[2 3 4]\n",
            "[-2 -1  0]\n",
            "[0 2 4]\n",
            "[0.  0.5 1. ]\n"
          ]
        }
      ],
      "source": [
        "print(a+2) #모든 값에 2씩 더하기\n",
        "print(a-2) #모든 값에 2씩 빼기\n",
        "print(a*2) #모든 값을 2로 곱하기\n",
        "print(a/2) #모든 값을 2로 나누기"
      ]
    },
    {
      "cell_type": "code",
      "execution_count": 3,
      "metadata": {
        "colab": {
          "base_uri": "https://localhost:8080/"
        },
        "id": "sAQL3DTO_b5F",
        "outputId": "f5143667-c142-40d7-8657-22c8c1345a5a"
      },
      "outputs": [
        {
          "data": {
            "text/plain": [
              "array([[1, 2, 3],\n",
              "       [4, 5, 6]])"
            ]
          },
          "execution_count": 3,
          "metadata": {},
          "output_type": "execute_result"
        }
      ],
      "source": [
        "a = np.arange(1,7).reshape(2,3)\n",
        "a"
      ]
    },
    {
      "cell_type": "code",
      "execution_count": 4,
      "metadata": {
        "id": "ZM4EMIqXD4gs"
      },
      "outputs": [],
      "source": [
        "b = np.full_like(a,[1,2,3]) #"
      ]
    },
    {
      "cell_type": "code",
      "execution_count": 5,
      "metadata": {
        "colab": {
          "base_uri": "https://localhost:8080/"
        },
        "id": "Xk6SEL4iD7Aq",
        "outputId": "a1ae1934-0a7c-46ca-d2c7-fe61f46e9cc0"
      },
      "outputs": [
        {
          "name": "stdout",
          "output_type": "stream",
          "text": [
            "[[2 4 6]\n",
            " [5 7 9]]\n",
            "[[0 0 0]\n",
            " [3 3 3]]\n",
            "[[ 1  4  9]\n",
            " [ 4 10 18]]\n",
            "[[1.  1.  1. ]\n",
            " [4.  2.5 2. ]]\n"
          ]
        }
      ],
      "source": [
        "print(a+b) \n",
        "print(a-b)\n",
        "print(a*b)\n",
        "print(a/b)"
      ]
    },
    {
      "cell_type": "code",
      "execution_count": 6,
      "metadata": {
        "colab": {
          "base_uri": "https://localhost:8080/"
        },
        "id": "xWvY8NApD77k",
        "outputId": "69564ecd-7a1e-4353-e8b0-cdc1807224f3"
      },
      "outputs": [
        {
          "data": {
            "text/plain": [
              "array([0, 1, 2, 3])"
            ]
          },
          "execution_count": 6,
          "metadata": {},
          "output_type": "execute_result"
        }
      ],
      "source": [
        "a= np.arange(4)\n",
        "a"
      ]
    },
    {
      "cell_type": "code",
      "execution_count": 7,
      "metadata": {
        "colab": {
          "base_uri": "https://localhost:8080/"
        },
        "id": "v6fkR36TEX8F",
        "outputId": "438a5006-ea5a-4757-cd0e-32d381deeb36"
      },
      "outputs": [
        {
          "data": {
            "text/plain": [
              "array([0.5, 1.5, 2.5, 3.5])"
            ]
          },
          "execution_count": 7,
          "metadata": {},
          "output_type": "execute_result"
        }
      ],
      "source": [
        "b = np.arange(0.5, 4, 1)\n",
        "b"
      ]
    },
    {
      "cell_type": "code",
      "execution_count": 8,
      "metadata": {
        "colab": {
          "base_uri": "https://localhost:8080/",
          "height": 184
        },
        "id": "iGcYmnMfEcES",
        "outputId": "36d14f60-b826-4fd7-af4c-cd10ba5b85ad"
      },
      "outputs": [
        {
          "ename": "UFuncTypeError",
          "evalue": "Cannot cast ufunc 'add' output from dtype('float64') to dtype('int64') with casting rule 'same_kind'",
          "output_type": "error",
          "traceback": [
            "\u001b[1;31m---------------------------------------------------------------------------\u001b[0m",
            "\u001b[1;31mUFuncTypeError\u001b[0m                            Traceback (most recent call last)",
            "Cell \u001b[1;32mIn[8], line 1\u001b[0m\n\u001b[1;32m----> 1\u001b[0m \u001b[43ma\u001b[49m\u001b[43m \u001b[49m\u001b[38;5;241;43m+\u001b[39;49m\u001b[38;5;241;43m=\u001b[39;49m\u001b[43m \u001b[49m\u001b[43mb\u001b[49m \n",
            "\u001b[1;31mUFuncTypeError\u001b[0m: Cannot cast ufunc 'add' output from dtype('float64') to dtype('int64') with casting rule 'same_kind'"
          ]
        }
      ],
      "source": [
        "a += b "
      ]
    },
    {
      "cell_type": "code",
      "execution_count": 9,
      "metadata": {
        "colab": {
          "base_uri": "https://localhost:8080/"
        },
        "id": "e-hGNLuEEdee",
        "outputId": "3c677bb2-fa20-402a-eedb-3fa6ae57766c"
      },
      "outputs": [
        {
          "data": {
            "text/plain": [
              "array([0.5, 2.5, 4.5, 6.5])"
            ]
          },
          "execution_count": 9,
          "metadata": {},
          "output_type": "execute_result"
        }
      ],
      "source": [
        "b+=a \n",
        "b"
      ]
    },
    {
      "cell_type": "code",
      "execution_count": 10,
      "metadata": {
        "colab": {
          "base_uri": "https://localhost:8080/"
        },
        "id": "rRwwjnQJE5rX",
        "outputId": "c6c87403-397b-4620-be7d-383da9356af6"
      },
      "outputs": [
        {
          "data": {
            "text/plain": [
              "array([[1, 2, 3],\n",
              "       [1, 2, 3]])"
            ]
          },
          "execution_count": 10,
          "metadata": {},
          "output_type": "execute_result"
        }
      ],
      "source": [
        "a = np.full((2,3),[1,2,3])\n",
        "a "
      ]
    },
    {
      "cell_type": "code",
      "execution_count": 11,
      "metadata": {
        "colab": {
          "base_uri": "https://localhost:8080/"
        },
        "id": "WRNFoALgFHWy",
        "outputId": "57a6d6e1-1d7b-4883-f0a0-f3e4895913bb"
      },
      "outputs": [
        {
          "data": {
            "text/plain": [
              "array([[2, 1],\n",
              "       [2, 1],\n",
              "       [2, 1]])"
            ]
          },
          "execution_count": 11,
          "metadata": {},
          "output_type": "execute_result"
        }
      ],
      "source": [
        "b = np.full((3,2),[2,1])\n",
        "b"
      ]
    },
    {
      "cell_type": "code",
      "execution_count": 12,
      "metadata": {
        "colab": {
          "base_uri": "https://localhost:8080/"
        },
        "id": "DQUedqB5FLDC",
        "outputId": "4d3679ce-6638-491a-c980-7f3e3b7ef52b"
      },
      "outputs": [
        {
          "data": {
            "text/plain": [
              "array([[12,  6],\n",
              "       [12,  6]])"
            ]
          },
          "execution_count": 12,
          "metadata": {},
          "output_type": "execute_result"
        }
      ],
      "source": [
        "a @ b"
      ]
    },
    {
      "cell_type": "code",
      "execution_count": 13,
      "metadata": {
        "colab": {
          "base_uri": "https://localhost:8080/"
        },
        "id": "0JFsmDSFFUJ8",
        "outputId": "98ca8a2f-1bbe-4cc8-ec13-5e143302a5af"
      },
      "outputs": [
        {
          "data": {
            "text/plain": [
              "array([[12,  6],\n",
              "       [12,  6]])"
            ]
          },
          "execution_count": 13,
          "metadata": {},
          "output_type": "execute_result"
        }
      ],
      "source": [
        "a.dot(b) "
      ]
    },
    {
      "cell_type": "code",
      "execution_count": 14,
      "metadata": {
        "colab": {
          "base_uri": "https://localhost:8080/"
        },
        "id": "hiJlZRHEFli6",
        "outputId": "fe3b4f89-7c72-4a44-9dfd-c22e8f16f7f9"
      },
      "outputs": [
        {
          "data": {
            "text/plain": [
              "array([[3, 6, 9],\n",
              "       [3, 6, 9],\n",
              "       [3, 6, 9]])"
            ]
          },
          "execution_count": 14,
          "metadata": {},
          "output_type": "execute_result"
        }
      ],
      "source": [
        "b.dot(a) "
      ]
    },
    {
      "cell_type": "code",
      "execution_count": 15,
      "metadata": {
        "colab": {
          "base_uri": "https://localhost:8080/"
        },
        "id": "OBcZhjUhFzHH",
        "outputId": "85bfe06c-25fe-4373-adac-2945e172ab25"
      },
      "outputs": [
        {
          "data": {
            "text/plain": [
              "array([[10, 20],\n",
              "       [ 5,  6],\n",
              "       [ 1,  2]])"
            ]
          },
          "execution_count": 15,
          "metadata": {},
          "output_type": "execute_result"
        }
      ],
      "source": [
        "a = np.array([[10,20],[5,6],[1,2]]) \n",
        "a"
      ]
    },
    {
      "cell_type": "code",
      "execution_count": 16,
      "metadata": {
        "colab": {
          "base_uri": "https://localhost:8080/"
        },
        "id": "buHpE0XUF9fq",
        "outputId": "807f2c94-7c6b-4448-f9f2-7074d353aa4a"
      },
      "outputs": [
        {
          "data": {
            "text/plain": [
              "np.int64(44)"
            ]
          },
          "execution_count": 16,
          "metadata": {},
          "output_type": "execute_result"
        }
      ],
      "source": [
        "a.sum()"
      ]
    },
    {
      "cell_type": "code",
      "execution_count": 17,
      "metadata": {
        "colab": {
          "base_uri": "https://localhost:8080/"
        },
        "id": "L1xWpNDjGAJ9",
        "outputId": "c64188cc-5328-4c01-9ea7-abfff70dfa1d"
      },
      "outputs": [
        {
          "data": {
            "text/plain": [
              "array([16, 28])"
            ]
          },
          "execution_count": 17,
          "metadata": {},
          "output_type": "execute_result"
        }
      ],
      "source": [
        "a.sum(axis=0) "
      ]
    },
    {
      "cell_type": "code",
      "execution_count": 18,
      "metadata": {
        "colab": {
          "base_uri": "https://localhost:8080/"
        },
        "id": "EGev9NMCGD8C",
        "outputId": "c4eb1f1b-1339-428b-af15-bb0c344a954e"
      },
      "outputs": [
        {
          "data": {
            "text/plain": [
              "array([30, 11,  3])"
            ]
          },
          "execution_count": 18,
          "metadata": {},
          "output_type": "execute_result"
        }
      ],
      "source": [
        "a.sum(axis=1)"
      ]
    },
    {
      "cell_type": "code",
      "execution_count": 19,
      "metadata": {
        "colab": {
          "base_uri": "https://localhost:8080/"
        },
        "id": "CfSqh6LcGJ5X",
        "outputId": "c4c1957f-9cf5-42f2-d88e-aa088b76de9e"
      },
      "outputs": [
        {
          "name": "stdout",
          "output_type": "stream",
          "text": [
            "44\n",
            "[16 28]\n",
            "[30 11  3]\n"
          ]
        }
      ],
      "source": [
        "import numpy as np\n",
        "\n",
        "print(np.sum(a))\n",
        "print(np.sum(a, axis=0))\n",
        "print(np.sum(a, axis=1))"
      ]
    },
    {
      "cell_type": "code",
      "execution_count": 20,
      "metadata": {
        "colab": {
          "base_uri": "https://localhost:8080/"
        },
        "id": "YF8v_gIWGUfn",
        "outputId": "3df492ab-d435-4325-d8ec-13bdde66c858"
      },
      "outputs": [
        {
          "data": {
            "text/plain": [
              "array([[3, 5, 7],\n",
              "       [1, 2, 3]])"
            ]
          },
          "execution_count": 20,
          "metadata": {},
          "output_type": "execute_result"
        }
      ],
      "source": [
        "a = np.array([[3,5,7],[1,2,3]])\n",
        "a"
      ]
    },
    {
      "cell_type": "code",
      "execution_count": 21,
      "metadata": {
        "colab": {
          "base_uri": "https://localhost:8080/"
        },
        "id": "gkHCmljKHAOI",
        "outputId": "18e4dc0f-0e45-4c1e-9806-5b21f14e68ba"
      },
      "outputs": [
        {
          "data": {
            "text/plain": [
              "array([ 3,  8, 15, 16, 18, 21])"
            ]
          },
          "execution_count": 21,
          "metadata": {},
          "output_type": "execute_result"
        }
      ],
      "source": [
        "a.cumsum() "
      ]
    },
    {
      "cell_type": "code",
      "execution_count": 22,
      "metadata": {
        "colab": {
          "base_uri": "https://localhost:8080/"
        },
        "id": "1RcvWqXhHBbT",
        "outputId": "7a0a773b-1472-499d-af2d-fd9022d22c9c"
      },
      "outputs": [
        {
          "data": {
            "text/plain": [
              "array([[ 3,  5,  7],\n",
              "       [ 4,  7, 10]])"
            ]
          },
          "execution_count": 22,
          "metadata": {},
          "output_type": "execute_result"
        }
      ],
      "source": [
        "a.cumsum(axis=0)"
      ]
    },
    {
      "cell_type": "code",
      "execution_count": 23,
      "metadata": {
        "colab": {
          "base_uri": "https://localhost:8080/"
        },
        "id": "kGrGezGvLJ-_",
        "outputId": "f204b0e0-d9ef-44af-9ed6-739f644c533a"
      },
      "outputs": [
        {
          "data": {
            "text/plain": [
              "array([[ 3,  8, 15],\n",
              "       [ 1,  3,  6]])"
            ]
          },
          "execution_count": 23,
          "metadata": {},
          "output_type": "execute_result"
        }
      ],
      "source": [
        "a.cumsum(axis=1)"
      ]
    },
    {
      "cell_type": "code",
      "execution_count": 24,
      "metadata": {
        "colab": {
          "base_uri": "https://localhost:8080/"
        },
        "id": "8T8MpbkcLNys",
        "outputId": "f5da978d-4782-4978-b03e-ccd14183c59b"
      },
      "outputs": [
        {
          "data": {
            "text/plain": [
              "array([1., 2., 3.])"
            ]
          },
          "execution_count": 24,
          "metadata": {},
          "output_type": "execute_result"
        }
      ],
      "source": [
        "import numpy as np\n",
        "a = np.array([1,4,9])\n",
        "np.sqrt(a) "
      ]
    },
    {
      "cell_type": "code",
      "execution_count": 25,
      "metadata": {
        "colab": {
          "base_uri": "https://localhost:8080/"
        },
        "id": "QEh4Hg4LLXuZ",
        "outputId": "cb5219ca-6765-44d5-ffad-c67ae7def770"
      },
      "outputs": [
        {
          "data": {
            "text/plain": [
              "array([0.        , 1.38629436, 2.19722458])"
            ]
          },
          "execution_count": 25,
          "metadata": {},
          "output_type": "execute_result"
        }
      ],
      "source": [
        "np.log(a)"
      ]
    },
    {
      "cell_type": "code",
      "execution_count": 26,
      "metadata": {
        "colab": {
          "base_uri": "https://localhost:8080/"
        },
        "id": "_OFUDVLDLcwM",
        "outputId": "bdcd490f-8ea0-4881-c717-7906ec020e2d"
      },
      "outputs": [
        {
          "data": {
            "text/plain": [
              "array([1, 4, 9])"
            ]
          },
          "execution_count": 26,
          "metadata": {},
          "output_type": "execute_result"
        }
      ],
      "source": [
        "import numpy as np\n",
        "\n",
        "a = np.array([1,4,9])\n",
        "a"
      ]
    },
    {
      "cell_type": "code",
      "execution_count": 27,
      "metadata": {
        "colab": {
          "base_uri": "https://localhost:8080/"
        },
        "id": "arXunxzCLmdr",
        "outputId": "c5c0f5f4-64a9-466f-92f0-738fb7211737"
      },
      "outputs": [
        {
          "data": {
            "text/plain": [
              "array([2, 2, 2])"
            ]
          },
          "execution_count": 27,
          "metadata": {},
          "output_type": "execute_result"
        }
      ],
      "source": [
        "b = np.full_like(a,2)\n",
        "b"
      ]
    },
    {
      "cell_type": "code",
      "execution_count": 28,
      "metadata": {
        "colab": {
          "base_uri": "https://localhost:8080/"
        },
        "id": "baCOl7t2LoXG",
        "outputId": "8b0e0b4c-bd9e-46ff-f30e-e7a1e48f73a6"
      },
      "outputs": [
        {
          "data": {
            "text/plain": [
              "array([ 3,  6, 11])"
            ]
          },
          "execution_count": 28,
          "metadata": {},
          "output_type": "execute_result"
        }
      ],
      "source": [
        "np.add(a,b)"
      ]
    },
    {
      "cell_type": "code",
      "execution_count": 29,
      "metadata": {
        "colab": {
          "base_uri": "https://localhost:8080/"
        },
        "id": "IIcaE6RaLqua",
        "outputId": "8e9756ac-4212-45a7-cb29-d94b7c56c66a"
      },
      "outputs": [
        {
          "data": {
            "text/plain": [
              "array([0.5, 2. , 4.5])"
            ]
          },
          "execution_count": 29,
          "metadata": {},
          "output_type": "execute_result"
        }
      ],
      "source": [
        "np.divide(a,b)"
      ]
    },
    {
      "cell_type": "code",
      "execution_count": 30,
      "metadata": {
        "colab": {
          "base_uri": "https://localhost:8080/"
        },
        "id": "aVpfHH6jLsVL",
        "outputId": "28677c83-77fc-4fca-ef35-986390175e7d"
      },
      "outputs": [
        {
          "data": {
            "text/plain": [
              "array([ 1, 16, 81])"
            ]
          },
          "execution_count": 30,
          "metadata": {},
          "output_type": "execute_result"
        }
      ],
      "source": [
        "np.power(a,b)"
      ]
    },
    {
      "cell_type": "code",
      "execution_count": null,
      "metadata": {
        "id": "Uccc7S4_Lvg5"
      },
      "outputs": [],
      "source": []
    },
    {
      "cell_type": "code",
      "execution_count": null,
      "metadata": {},
      "outputs": [],
      "source": [
        " "
      ]
    }
  ],
  "metadata": {
    "colab": {
      "authorship_tag": "ABX9TyOLS1qeCg3FRiappK7F1q0w",
      "include_colab_link": true,
      "provenance": []
    },
    "kernelspec": {
      "display_name": "Python 3",
      "name": "python3"
    },
    "language_info": {
      "codemirror_mode": {
        "name": "ipython",
        "version": 3
      },
      "file_extension": ".py",
      "mimetype": "text/x-python",
      "name": "python",
      "nbconvert_exporter": "python",
      "pygments_lexer": "ipython3",
      "version": "3.12.2"
    }
  },
  "nbformat": 4,
  "nbformat_minor": 0
}
