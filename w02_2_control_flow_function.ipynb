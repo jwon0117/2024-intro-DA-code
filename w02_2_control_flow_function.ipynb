{
  "nbformat": 4,
  "nbformat_minor": 0,
  "metadata": {
    "colab": {
      "provenance": [],
      "authorship_tag": "ABX9TyMog/ojxuXZf9SuYE5o8pV5",
      "include_colab_link": true
    },
    "kernelspec": {
      "name": "python3",
      "display_name": "Python 3"
    },
    "language_info": {
      "name": "python"
    }
  },
  "cells": [
    {
      "cell_type": "markdown",
      "metadata": {
        "id": "view-in-github",
        "colab_type": "text"
      },
      "source": [
        "<a href=\"https://colab.research.google.com/github/jwon0117/2024-intro-DA-code/blob/main/w02_2_control_flow_function.ipynb\" target=\"_parent\"><img src=\"https://colab.research.google.com/assets/colab-badge.svg\" alt=\"Open In Colab\"/></a>"
      ]
    },
    {
      "cell_type": "code",
      "execution_count": 4,
      "metadata": {
        "colab": {
          "base_uri": "https://localhost:8080/"
        },
        "id": "zNCICOcg81K5",
        "outputId": "dee45928-5cf9-45d8-c11a-fb63dd36937a"
      },
      "outputs": [
        {
          "output_type": "stream",
          "name": "stdout",
          "text": [
            "짝수\n"
          ]
        }
      ],
      "source": [
        "n = 20\n",
        "if n%2 == 0:\n",
        "  print('짝수')\n"
      ]
    },
    {
      "cell_type": "code",
      "source": [
        "n = 21\n",
        "if n%2 == 0:\n",
        "  print(\"짝수\")"
      ],
      "metadata": {
        "id": "eJN_jyB2BfG1"
      },
      "execution_count": 6,
      "outputs": []
    },
    {
      "cell_type": "code",
      "source": [
        "age = 18\n",
        "if age >= 20:\n",
        "  print(\"성인\")\n",
        "else:\n",
        "  print(\"미성년자\")"
      ],
      "metadata": {
        "colab": {
          "base_uri": "https://localhost:8080/"
        },
        "id": "TNZWXg2hCXu4",
        "outputId": "4d01e158-d987-44c2-ea0a-55c5d6ec63d7"
      },
      "execution_count": 7,
      "outputs": [
        {
          "output_type": "stream",
          "name": "stdout",
          "text": [
            "미성년자\n"
          ]
        }
      ]
    },
    {
      "cell_type": "code",
      "source": [
        "age = 21\n",
        "if age >= 20:\n",
        "  print(\"성인\")\n",
        "else:\n",
        "  print(\"미성년자\")"
      ],
      "metadata": {
        "colab": {
          "base_uri": "https://localhost:8080/"
        },
        "id": "jVTpcjLlCs5o",
        "outputId": "e0fd2197-28b2-4afd-9f49-2d8836ff37bf"
      },
      "execution_count": 8,
      "outputs": [
        {
          "output_type": "stream",
          "name": "stdout",
          "text": [
            "성인\n"
          ]
        }
      ]
    },
    {
      "cell_type": "code",
      "source": [
        "age = 18\n",
        "s = '성인' if age >= 20 else '미성년자'\n",
        "print(s)"
      ],
      "metadata": {
        "colab": {
          "base_uri": "https://localhost:8080/"
        },
        "id": "NAXHH3KsCv4M",
        "outputId": "7bb5e358-3581-44c8-e5b5-f940945725cc"
      },
      "execution_count": 9,
      "outputs": [
        {
          "output_type": "stream",
          "name": "stdout",
          "text": [
            "미성년자\n"
          ]
        }
      ]
    },
    {
      "cell_type": "code",
      "source": [
        "age = 20\n",
        "s = '성인' if age >= 20 else '미성년자'\n",
        "print(s)"
      ],
      "metadata": {
        "colab": {
          "base_uri": "https://localhost:8080/"
        },
        "id": "Zp75LLSoC0zW",
        "outputId": "92298fa7-f7c5-4c83-c08c-7f5b1e8aab22"
      },
      "execution_count": 10,
      "outputs": [
        {
          "output_type": "stream",
          "name": "stdout",
          "text": [
            "성인\n"
          ]
        }
      ]
    },
    {
      "cell_type": "code",
      "source": [
        "point = 92\n",
        "if point >= 90:\n",
        "  print('A')\n",
        "elif point >= 80:\n",
        "  print('B')\n",
        "elif point >= 70:\n",
        "  print('C')\n",
        "elif point >= 60:\n",
        "  print('D')\n",
        "else:\n",
        "  print"
      ],
      "metadata": {
        "colab": {
          "base_uri": "https://localhost:8080/"
        },
        "id": "2ltVsgICC4aR",
        "outputId": "f2916dc4-bfbf-4a5c-f49c-d91280289e69"
      },
      "execution_count": 12,
      "outputs": [
        {
          "output_type": "stream",
          "name": "stdout",
          "text": [
            "A\n"
          ]
        }
      ]
    },
    {
      "cell_type": "code",
      "source": [
        "point = 62\n",
        "if point >= 90:\n",
        "  print('A')\n",
        "elif point >= 80:\n",
        "  print('B')\n",
        "elif point >= 70:\n",
        "  print('C')\n",
        "elif point >= 60:\n",
        "  print('D')\n",
        "else:\n",
        "  print('F')\n",
        "\n"
      ],
      "metadata": {
        "colab": {
          "base_uri": "https://localhost:8080/"
        },
        "id": "ZD3cPFosDBws",
        "outputId": "445f6341-6763-4b5a-88f0-88d044a54127"
      },
      "execution_count": 14,
      "outputs": [
        {
          "output_type": "stream",
          "name": "stdout",
          "text": [
            "D\n"
          ]
        }
      ]
    },
    {
      "cell_type": "code",
      "source": [
        "value = \"apple\"\n",
        "match value:\n",
        "  case 'apple':\n",
        "    result = \"사과\"\n",
        "  case 'banana':\n",
        "    result = \"바나나\"\n",
        "\n",
        "print(result)"
      ],
      "metadata": {
        "colab": {
          "base_uri": "https://localhost:8080/"
        },
        "id": "jmfRAEGkEgVs",
        "outputId": "b9791ae7-5499-44c9-d193-4ec8f49daa1d"
      },
      "execution_count": 24,
      "outputs": [
        {
          "output_type": "stream",
          "name": "stdout",
          "text": [
            "사과\n"
          ]
        }
      ]
    },
    {
      "cell_type": "code",
      "source": [
        "value = \"banana\"\n",
        "match value:\n",
        "  case 'apple':\n",
        "    result = \"사과\"\n",
        "  case 'banana':\n",
        "    result = \"바나나\"\n",
        "\n",
        "print(result)"
      ],
      "metadata": {
        "colab": {
          "base_uri": "https://localhost:8080/"
        },
        "id": "zY0LkM2TEhgE",
        "outputId": "16efafc7-73a6-4f57-be4e-5dcc091620ff"
      },
      "execution_count": 25,
      "outputs": [
        {
          "output_type": "stream",
          "name": "stdout",
          "text": [
            "바나나\n"
          ]
        }
      ]
    },
    {
      "cell_type": "code",
      "source": [
        "value = \"mango\"\n",
        "match value:\n",
        "  case 'apple':\n",
        "    result = \"사과\"\n",
        "  case 'banana':\n",
        "    result = \"바나나\"\n",
        "  case _:\n",
        "    result = None\n",
        "print(result)"
      ],
      "metadata": {
        "colab": {
          "base_uri": "https://localhost:8080/"
        },
        "id": "lDKOeVqtEmc-",
        "outputId": "fd174160-7220-4a7c-a9f0-f1c4f8551689"
      },
      "execution_count": 26,
      "outputs": [
        {
          "output_type": "stream",
          "name": "stdout",
          "text": [
            "None\n"
          ]
        }
      ]
    },
    {
      "cell_type": "code",
      "source": [
        "for x in range(1, 6):\n",
        "  print(x)"
      ],
      "metadata": {
        "colab": {
          "base_uri": "https://localhost:8080/"
        },
        "id": "b1vkb_bAEwId",
        "outputId": "be855754-b8f5-495b-b86a-f97d3e53d6c0"
      },
      "execution_count": 27,
      "outputs": [
        {
          "output_type": "stream",
          "name": "stdout",
          "text": [
            "1\n",
            "2\n",
            "3\n",
            "4\n",
            "5\n"
          ]
        }
      ]
    },
    {
      "cell_type": "code",
      "source": [
        "num = [10, 20, 30, 40]\n",
        "for i in num:\n",
        "  print(i)"
      ],
      "metadata": {
        "colab": {
          "base_uri": "https://localhost:8080/"
        },
        "id": "C-k5MIMrE21R",
        "outputId": "6e1289d8-73fa-4bb1-9bc2-d5bf264f1003"
      },
      "execution_count": 29,
      "outputs": [
        {
          "output_type": "stream",
          "name": "stdout",
          "text": [
            "10\n",
            "20\n",
            "30\n",
            "40\n"
          ]
        }
      ]
    },
    {
      "cell_type": "code",
      "source": [
        "fruits = list ([\"apple \", 2500, \"banaan\", 500, \"mango\", 2000])\n",
        "for x in fruits:\n",
        "  print(x)"
      ],
      "metadata": {
        "colab": {
          "base_uri": "https://localhost:8080/"
        },
        "id": "HnpVRPzGFAm-",
        "outputId": "c7f8da05-5cb1-43d0-acb3-5fec30910eed"
      },
      "execution_count": 30,
      "outputs": [
        {
          "output_type": "stream",
          "name": "stdout",
          "text": [
            "apple \n",
            "2500\n",
            "banaan\n",
            "500\n",
            "mango\n",
            "2000\n"
          ]
        }
      ]
    },
    {
      "cell_type": "code",
      "source": [
        "i = 1\n",
        "sum = 0\n",
        "while i <= 10:\n",
        "  sum += i\n",
        "  i += 1\n",
        "print(sum)"
      ],
      "metadata": {
        "colab": {
          "base_uri": "https://localhost:8080/"
        },
        "id": "QFxdslegFTss",
        "outputId": "1d6394f4-d237-45d8-e016-d72c1649100f"
      },
      "execution_count": 31,
      "outputs": [
        {
          "output_type": "stream",
          "name": "stdout",
          "text": [
            "55\n"
          ]
        }
      ]
    },
    {
      "cell_type": "code",
      "source": [
        "def hello():\n",
        "  print('hello, python!')"
      ],
      "metadata": {
        "id": "HTQZHabJFYeT"
      },
      "execution_count": 32,
      "outputs": []
    },
    {
      "cell_type": "code",
      "source": [
        "hello()"
      ],
      "metadata": {
        "colab": {
          "base_uri": "https://localhost:8080/"
        },
        "id": "HnLptBgeFgCd",
        "outputId": "3ed3990f-43a6-4804-af4b-39d0d6ef59ce"
      },
      "execution_count": 34,
      "outputs": [
        {
          "output_type": "stream",
          "name": "stdout",
          "text": [
            "hello, python!\n"
          ]
        }
      ]
    },
    {
      "cell_type": "code",
      "source": [
        "hello"
      ],
      "metadata": {
        "colab": {
          "base_uri": "https://localhost:8080/",
          "height": 104
        },
        "id": "th3GiC8lFzvm",
        "outputId": "5f4b9298-cd40-419a-c7d9-eacf77ccfde5"
      },
      "execution_count": 35,
      "outputs": [
        {
          "output_type": "execute_result",
          "data": {
            "text/plain": [
              "<function __main__.hello()>"
            ],
            "text/html": [
              "<div style=\"max-width:800px; border: 1px solid var(--colab-border-color);\"><style>\n",
              "      pre.function-repr-contents {\n",
              "        overflow-x: auto;\n",
              "        padding: 8px 12px;\n",
              "        max-height: 500px;\n",
              "      }\n",
              "\n",
              "      pre.function-repr-contents.function-repr-contents-collapsed {\n",
              "        cursor: pointer;\n",
              "        max-height: 100px;\n",
              "      }\n",
              "    </style>\n",
              "    <pre style=\"white-space: initial; background:\n",
              "         var(--colab-secondary-surface-color); padding: 8px 12px;\n",
              "         border-bottom: 1px solid var(--colab-border-color);\"><b>hello</b><br/>def hello()</pre><pre class=\"function-repr-contents function-repr-contents-collapsed\" style=\"\"><a class=\"filepath\" style=\"display:none\" href=\"#\">/content/&lt;ipython-input-32-1e46840c1fc3&gt;</a>&lt;no docstring&gt;</pre></div>"
            ]
          },
          "metadata": {},
          "execution_count": 35
        }
      ]
    },
    {
      "cell_type": "code",
      "source": [
        "type(hello)"
      ],
      "metadata": {
        "colab": {
          "base_uri": "https://localhost:8080/"
        },
        "id": "iOrHH2BdF24h",
        "outputId": "8e82429d-50c5-412a-b119-a2c11f6f4c6a"
      },
      "execution_count": 36,
      "outputs": [
        {
          "output_type": "execute_result",
          "data": {
            "text/plain": [
              "function"
            ]
          },
          "metadata": {},
          "execution_count": 36
        }
      ]
    },
    {
      "cell_type": "code",
      "source": [
        "def hi(one):\n",
        "  print('안녕, ', one)"
      ],
      "metadata": {
        "id": "ZOyuMIRQGIk3"
      },
      "execution_count": 39,
      "outputs": []
    },
    {
      "cell_type": "code",
      "source": [
        "def hi(one = '친구들'):\n",
        "  print('안녕, ', one)"
      ],
      "metadata": {
        "id": "iMu0q8L-GS9r"
      },
      "execution_count": 44,
      "outputs": []
    },
    {
      "cell_type": "code",
      "source": [
        "hi()"
      ],
      "metadata": {
        "colab": {
          "base_uri": "https://localhost:8080/"
        },
        "id": "2DF_gdA8IAJF",
        "outputId": "3c2b7485-9046-4e3f-e805-a55ed137332a"
      },
      "execution_count": 45,
      "outputs": [
        {
          "output_type": "stream",
          "name": "stdout",
          "text": [
            "안녕,  친구들\n"
          ]
        }
      ]
    },
    {
      "cell_type": "code",
      "source": [
        "hi('철수')"
      ],
      "metadata": {
        "colab": {
          "base_uri": "https://localhost:8080/"
        },
        "id": "qavhS-ZaIRcb",
        "outputId": "16580842-2279-42e6-e24d-91c9506b12c9"
      },
      "execution_count": 46,
      "outputs": [
        {
          "output_type": "stream",
          "name": "stdout",
          "text": [
            "안녕,  철수\n"
          ]
        }
      ]
    },
    {
      "cell_type": "code",
      "source": [
        "import math as m\n",
        "def circle_area(r = 1):\n",
        "  print(m.pi * r**2)"
      ],
      "metadata": {
        "id": "epRUu0RcITDg"
      },
      "execution_count": 50,
      "outputs": []
    },
    {
      "cell_type": "code",
      "source": [
        "circle_area(4.5)"
      ],
      "metadata": {
        "colab": {
          "base_uri": "https://localhost:8080/"
        },
        "id": "qNL0ITetJvs6",
        "outputId": "b1942f5a-de04-4937-f18b-2825747d42fd"
      },
      "execution_count": 52,
      "outputs": [
        {
          "output_type": "stream",
          "name": "stdout",
          "text": [
            "63.61725123519331\n"
          ]
        }
      ]
    },
    {
      "cell_type": "code",
      "source": [
        "circle_area(r = 5.6)"
      ],
      "metadata": {
        "colab": {
          "base_uri": "https://localhost:8080/"
        },
        "id": "CQm5M5dQJ7MP",
        "outputId": "24b87641-ca2e-44e7-f12b-dda2c7543727"
      },
      "execution_count": 53,
      "outputs": [
        {
          "output_type": "stream",
          "name": "stdout",
          "text": [
            "98.5203456165759\n"
          ]
        }
      ]
    },
    {
      "cell_type": "code",
      "source": [
        "print(circle_area(r = 7.2))"
      ],
      "metadata": {
        "colab": {
          "base_uri": "https://localhost:8080/"
        },
        "id": "Kzd1w75mKAqq",
        "outputId": "0297308c-b7be-49fe-fb25-46da628ff60b"
      },
      "execution_count": 54,
      "outputs": [
        {
          "output_type": "stream",
          "name": "stdout",
          "text": [
            "162.8601631620949\n",
            "None\n"
          ]
        }
      ]
    },
    {
      "cell_type": "code",
      "source": [
        "import math as m\n",
        "def circle_area(r = 1):\n",
        "  return m.pi * r**2\n",
        "\n",
        "print(circle_area(r = 7.2))\n"
      ],
      "metadata": {
        "colab": {
          "base_uri": "https://localhost:8080/"
        },
        "id": "7cCl2fAMKFVt",
        "outputId": "b7b280a4-82a9-4e7a-c136-437ef94210b9"
      },
      "execution_count": 56,
      "outputs": [
        {
          "output_type": "stream",
          "name": "stdout",
          "text": [
            "162.8601631620949\n"
          ]
        }
      ]
    },
    {
      "cell_type": "code",
      "source": [
        "def sum_sub(x, y):\n",
        "  hap = x + y\n",
        "  cha = x -y\n",
        "  return hap, cha"
      ],
      "metadata": {
        "id": "5MvcW73aKVyT"
      },
      "execution_count": 57,
      "outputs": []
    },
    {
      "cell_type": "code",
      "source": [
        "sum_sub(10, 3)"
      ],
      "metadata": {
        "colab": {
          "base_uri": "https://localhost:8080/"
        },
        "id": "7Cozf0iHKj-w",
        "outputId": "09b59e4f-b6c2-4280-a863-641823ef2183"
      },
      "execution_count": 58,
      "outputs": [
        {
          "output_type": "execute_result",
          "data": {
            "text/plain": [
              "(13, 7)"
            ]
          },
          "metadata": {},
          "execution_count": 58
        }
      ]
    },
    {
      "cell_type": "code",
      "source": [
        "sum_sub(x = 10, y = 3)"
      ],
      "metadata": {
        "colab": {
          "base_uri": "https://localhost:8080/"
        },
        "id": "fu6Wghg4Kmot",
        "outputId": "8706bb75-69a1-4fa9-b354-602dae89e5ec"
      },
      "execution_count": 59,
      "outputs": [
        {
          "output_type": "execute_result",
          "data": {
            "text/plain": [
              "(13, 7)"
            ]
          },
          "metadata": {},
          "execution_count": 59
        }
      ]
    },
    {
      "cell_type": "code",
      "source": [
        "sum_sub(y = 3, x = 10)"
      ],
      "metadata": {
        "colab": {
          "base_uri": "https://localhost:8080/"
        },
        "id": "N12DtHNZKpw_",
        "outputId": "ecf3ae0f-b316-43c7-f95b-f0fbe2b512db"
      },
      "execution_count": 60,
      "outputs": [
        {
          "output_type": "execute_result",
          "data": {
            "text/plain": [
              "(13, 7)"
            ]
          },
          "metadata": {},
          "execution_count": 60
        }
      ]
    },
    {
      "cell_type": "code",
      "source": [
        "import math as m\n",
        "(lambda a, b: m.sqrt(a**2 + b**2))(3, 4)"
      ],
      "metadata": {
        "colab": {
          "base_uri": "https://localhost:8080/"
        },
        "id": "PMcIamhzKs8I",
        "outputId": "424e5e0d-2140-4cb8-ab9c-3c7c856b01a8"
      },
      "execution_count": 65,
      "outputs": [
        {
          "output_type": "execute_result",
          "data": {
            "text/plain": [
              "5.0"
            ]
          },
          "metadata": {},
          "execution_count": 65
        }
      ]
    },
    {
      "cell_type": "code",
      "source": [],
      "metadata": {
        "id": "hzKbeSGoK1vS"
      },
      "execution_count": null,
      "outputs": []
    }
  ]
}